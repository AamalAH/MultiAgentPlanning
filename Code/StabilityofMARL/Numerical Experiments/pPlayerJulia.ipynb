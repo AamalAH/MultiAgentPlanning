{
 "cells": [
  {
   "cell_type": "code",
   "execution_count": 1,
   "metadata": {},
   "outputs": [],
   "source": [
    "using LinearAlgebra\n",
    "using SparseArrays\n",
    "using PyCall\n",
    "using Plots\n",
    "using IterTools\n",
    "using Distributions\n",
    "using ProgressMeter"
   ]
  },
  {
   "cell_type": "code",
   "execution_count": 2,
   "metadata": {},
   "outputs": [
    {
     "data": {
      "text/plain": [
       "allActions (generic function with 1 method)"
      ]
     },
     "execution_count": 2,
     "metadata": {},
     "output_type": "execute_result"
    }
   ],
   "source": [
    "py\"\"\"\n",
    "def allActions(nAct, nPlayers):\n",
    "    import itertools\n",
    "    idX = list(itertools.product(list(range(1, nAct + 1)), repeat=nPlayers)) * nPlayers\n",
    "    return idX\n",
    "\"\"\"\n",
    "allActions(nAct, nPlayers) = py\"allActions\"(nAct, nPlayers)"
   ]
  },
  {
   "cell_type": "code",
   "execution_count": 3,
   "metadata": {},
   "outputs": [
    {
     "data": {
      "text/plain": [
       "generateCorrespondences (generic function with 1 method)"
      ]
     },
     "execution_count": 3,
     "metadata": {},
     "output_type": "execute_result"
    }
   ],
   "source": [
    "function generateCorrespondences(nActions, nPlayers)\n",
    "    nElements = nActions^nPlayers\n",
    "    Actions = allActions(nActions, nPlayers)\n",
    "    allCombos = [[findall(x -> x==tuple(circshift([j for j in Actions[i]], -1*(p))...), Actions)[p+1] for p=0:nPlayers-1] for i=1:nElements]\n",
    "    \n",
    "    return Actions, allCombos\n",
    "end"
   ]
  },
  {
   "cell_type": "code",
   "execution_count": 4,
   "metadata": {},
   "outputs": [
    {
     "data": {
      "text/plain": [
       "generateGames (generic function with 1 method)"
      ]
     },
     "execution_count": 4,
     "metadata": {},
     "output_type": "execute_result"
    }
   ],
   "source": [
    "function generateGames(Gamma, nSim, allCombos, nActions, nPlayers)\n",
    "    \"\"\"\n",
    "    Create Covariance Matrix from Gamma\n",
    "    \n",
    "    Return Random Payoff Matrices: nPlayers*nElements x nSim\n",
    "    \n",
    "    \"\"\"\n",
    "    nElements = nActions^nPlayers\n",
    "    cov = Matrix(1.0I, nPlayers * nElements, nPlayers * nElements)\n",
    "    \n",
    "    \"\"\" Cycle through each of the combinations and assign them the appropriate Gamma \"\"\"\n",
    "    for c in allCombos\n",
    "        cov[c[1], c[2:end]] .= Gamma/(nPlayers-1)\n",
    "        cov[c[2:end], c[1]] .= Gamma/(nPlayers-1)\n",
    "    end\n",
    "        \n",
    "    \"\"\" draw from a Gaussian using this covariance matrix \"\"\"\n",
    "\n",
    "    return rand(MvNormal(zeros(nPlayers * nElements), cov), nSim)\n",
    "\n",
    "end"
   ]
  },
  {
   "cell_type": "code",
   "execution_count": 5,
   "metadata": {},
   "outputs": [
    {
     "data": {
      "text/plain": [
       "getActionProbs (generic function with 1 method)"
      ]
     },
     "execution_count": 5,
     "metadata": {},
     "output_type": "execute_result"
    }
   ],
   "source": [
    "function getActionProbs(qValues, agentParams)\n",
    "    \"\"\"\n",
    "    qValues: nPlayer x nActions x nSim\n",
    "    return: nPlayer x nActions x nSim\n",
    "    \"\"\"\n",
    "    alpha, tau, gamma = agentParams\n",
    "    \n",
    "    return exp.(tau * qValues)./sum(exp.(tau * qValues), dims=2)\n",
    "end"
   ]
  },
  {
   "cell_type": "code",
   "execution_count": 6,
   "metadata": {},
   "outputs": [
    {
     "data": {
      "text/plain": [
       "chooseActions (generic function with 1 method)"
      ]
     },
     "execution_count": 6,
     "metadata": {},
     "output_type": "execute_result"
    }
   ],
   "source": [
    "function chooseActions(actionProbs, gameParams)\n",
    "    \"\"\"\n",
    "    arg: actionProbs: nPlayer x nActions x nSim\n",
    "    return: nPlayer x nSim\n",
    "    \"\"\"\n",
    "    \n",
    "    nSim, nPlayers, nActions = gameParams\n",
    "\n",
    "    return [[rand(Bernoulli(actionProbs[p, 1, s])) + 1 for p=1:nPlayers] for s=1:nSim]\n",
    "end"
   ]
  },
  {
   "cell_type": "code",
   "execution_count": 7,
   "metadata": {},
   "outputs": [
    {
     "data": {
      "text/plain": [
       "findPayoffs (generic function with 1 method)"
      ]
     },
     "execution_count": 7,
     "metadata": {},
     "output_type": "execute_result"
    }
   ],
   "source": [
    "function findPayoffs(choices, gameParams, corr, actions, payoffs)\n",
    "    nSim, nPlayers, nActions = gameParams\n",
    "    \n",
    "    choiceIdx = [corr[findall(x -> x==tuple(choices[s]...), actions)[1]] for s=1:nSim]\n",
    "    return [payoffs[choiceIdx[s], s] for s=1:nSim]\n",
    "end"
   ]
  },
  {
   "cell_type": "code",
   "execution_count": 8,
   "metadata": {},
   "outputs": [
    {
     "data": {
      "text/plain": [
       "qUpdate! (generic function with 1 method)"
      ]
     },
     "execution_count": 8,
     "metadata": {},
     "output_type": "execute_result"
    }
   ],
   "source": [
    "function qUpdate!(qValues, payoffs, gameParams, agentParams, correlations, actions)\n",
    "\n",
    "    nSim, nPlayers, nActions = gameParams\n",
    "    alpha, tau, gamma = agentParams\n",
    "    \n",
    "    actionProbs = getActionProbs(qValues, agentParams)\n",
    "    bChoice = chooseActions(actionProbs, gameParams)\n",
    "    rewards = findPayoffs(bChoice, gameParams, correlations, actions, payoffs)\n",
    "\n",
    "    update = [rewards[s] - diag(qValues[:, bChoice[s], s]) + gamma * findmax(qValues[:, :, s], dims=2)[1] for s=1:nSim]\n",
    "    \n",
    "    for s = 1:nSim\n",
    "        for p = 1:nPlayers\n",
    "            qValues[p, bChoice[s][p], s] += alpha * update[s][p]\n",
    "        end\n",
    "    end\n",
    "end"
   ]
  },
  {
   "cell_type": "code",
   "execution_count": 9,
   "metadata": {},
   "outputs": [
    {
     "data": {
      "text/plain": [
       "checkminMix (generic function with 1 method)"
      ]
     },
     "execution_count": 9,
     "metadata": {},
     "output_type": "execute_result"
    }
   ],
   "source": [
    "function checkminMix(actionTracker, nSim, tol)\n",
    "    T = hcat([reshape(actionTracker[i], nPlayers * nSim * nActions) for i=1:length(actionTracker)]...)\n",
    "    relDiff = (findmax(T, dims=2)[1] - findmin(T, dims=2)[1])./findmin(T, dims=2)[1]\n",
    "\n",
    "    part = [relDiff[i*(nActions*nPlayers)+1:(i+1)*(nActions*nPlayers)] for i=0:nSim-1]\n",
    "    bRemove = [length(findall(x->x<0.01, p))>=length(p) for p in part]\n",
    "    \n",
    "    return bRemove\n",
    "end"
   ]
  },
  {
   "cell_type": "code",
   "execution_count": 32,
   "metadata": {},
   "outputs": [
    {
     "data": {
      "text/plain": [
       "Any[]"
      ]
     },
     "execution_count": 32,
     "metadata": {},
     "output_type": "execute_result"
    }
   ],
   "source": [
    "alpha = 0.01\n",
    "tau = 0.05\n",
    "gamma = 0.1\n",
    "\n",
    "initnSim = 20\n",
    "nPlayers = 3\n",
    "nActions = 10\n",
    "\n",
    "Gamma = -0.5\n",
    "\n",
    "# gameParams = (nSim, nPlayers, nActions)\n",
    "# agentParams = (alpha, tau, gamma)\n",
    "\n",
    "t0 = 5000\n",
    "actions, corr = generateCorrespondences(nActions, nPlayers)\n",
    "\n",
    "nIter = trunc(Int, 5e4)\n",
    "\n",
    "allconv = []"
   ]
  },
  {
   "cell_type": "code",
   "execution_count": null,
   "metadata": {},
   "outputs": [],
   "source": [
    "@showprogress for a in LinRange(1e-2, 5e-2, 20)\n",
    "    global alpha = a\n",
    "    for Gamma in LinRange(-1, 0, 20)\n",
    "        global nSim = initnSim\n",
    "    \n",
    "        qValues = rand(nPlayers, nActions, nSim)\n",
    "        payoffs = generateGames(Gamma, nSim, corr, nActions, nPlayers)\n",
    "        actionTracker = []\n",
    "\n",
    "        converged = 0\n",
    "\n",
    "        for cIter = 1:nIter\n",
    "\n",
    "            if cIter==t0\n",
    "                actionTracker = []\n",
    "            end    \n",
    "\n",
    "            if cIter%t0==0 && cIter!=0 && cIter!=t0\n",
    "                bRemove = checkminMix(actionTracker, nSim, 1e-2)\n",
    "                removeIdx = findall(bRemove)\n",
    "                qValues = qValues[:, :, setdiff(1:end, removeIdx)]\n",
    "                payoffs = payoffs[:, setdiff(1:end, removeIdx)]\n",
    "                nSim -= length(removeIdx)\n",
    "                converged += length(removeIdx)\n",
    "\n",
    "                actionTracker = [] \n",
    "            end\n",
    "\n",
    "            if nSim <= 0\n",
    "                break\n",
    "            end\n",
    "\n",
    "            gameParams = (nSim, nPlayers, nActions)\n",
    "            agentParams = (alpha, tau, gamma)\n",
    "\n",
    "            qUpdate!(qValues, payoffs, gameParams, agentParams, corr, actions)\n",
    "            append!(actionTracker, [getActionProbs(qValues, agentParams)])\n",
    "\n",
    "        end\n",
    "        append!(allconv, [alpha, Gamma, converged/initnSim])\n",
    "    end\n",
    "end"
   ]
  },
  {
   "cell_type": "code",
   "execution_count": 25,
   "metadata": {},
   "outputs": [
    {
     "data": {
      "text/plain": [
       "10×10 Array{Any,2}:\n",
       " 0.15  0.0   0.0   0.0  0.0  0.0  0.0  0.0  0.0  0.0\n",
       " 0.25  0.0   0.0   0.0  0.0  0.0  0.0  0.0  0.0  0.0\n",
       " 0.2   0.0   0.0   0.0  0.0  0.0  0.0  0.0  0.0  0.0\n",
       " 0.1   0.0   0.0   0.0  0.0  0.0  0.0  0.0  0.0  0.0\n",
       " 0.2   0.0   0.0   0.0  0.0  0.0  0.0  0.0  0.0  0.0\n",
       " 0.15  0.05  0.0   0.0  0.0  0.0  0.0  0.0  0.0  0.0\n",
       " 0.2   0.0   0.0   0.0  0.0  0.0  0.0  0.0  0.0  0.0\n",
       " 0.3   0.0   0.0   0.0  0.0  0.0  0.0  0.0  0.0  0.0\n",
       " 0.2   0.0   0.0   0.0  0.0  0.0  0.0  0.0  0.0  0.0\n",
       " 0.4   0.0   0.05  0.0  0.0  0.0  0.0  0.0  0.0  0.0"
      ]
     },
     "execution_count": 25,
     "metadata": {},
     "output_type": "execute_result"
    }
   ],
   "source": [
    "a = reshape(allconv[3:3:end], 10, 10)[end:-1:1, :]"
   ]
  },
  {
   "cell_type": "code",
   "execution_count": 26,
   "metadata": {},
   "outputs": [
    {
     "data": {
      "image/svg+xml": [
       "<?xml version=\"1.0\" encoding=\"utf-8\"?>\n",
       "<svg xmlns=\"http://www.w3.org/2000/svg\" xmlns:xlink=\"http://www.w3.org/1999/xlink\" width=\"600\" height=\"400\" viewBox=\"0 0 2400 1600\">\n",
       "<defs>\n",
       "  <clipPath id=\"clip490\">\n",
       "    <rect x=\"0\" y=\"0\" width=\"2400\" height=\"1600\"/>\n",
       "  </clipPath>\n",
       "</defs>\n",
       "<path clip-path=\"url(#clip490)\" d=\"\n",
       "M0 1600 L2400 1600 L2400 0 L0 0  Z\n",
       "  \" fill=\"#ffffff\" fill-rule=\"evenodd\" fill-opacity=\"1\"/>\n",
       "<defs>\n",
       "  <clipPath id=\"clip491\">\n",
       "    <rect x=\"480\" y=\"0\" width=\"1681\" height=\"1600\"/>\n",
       "  </clipPath>\n",
       "</defs>\n",
       "<path clip-path=\"url(#clip490)\" d=\"\n",
       "M134.584 1486.45 L2112.76 1486.45 L2112.76 47.2441 L134.584 47.2441  Z\n",
       "  \" fill=\"#ffffff\" fill-rule=\"evenodd\" fill-opacity=\"1\"/>\n",
       "<defs>\n",
       "  <clipPath id=\"clip492\">\n",
       "    <rect x=\"134\" y=\"47\" width=\"1979\" height=\"1440\"/>\n",
       "  </clipPath>\n",
       "</defs>\n",
       "<polyline clip-path=\"url(#clip492)\" style=\"stroke:#000000; stroke-width:2; stroke-opacity:0.1; fill:none\" points=\"\n",
       "  431.31,1486.45 431.31,47.2441 \n",
       "  \"/>\n",
       "<polyline clip-path=\"url(#clip492)\" style=\"stroke:#000000; stroke-width:2; stroke-opacity:0.1; fill:none\" points=\"\n",
       "  826.944,1486.45 826.944,47.2441 \n",
       "  \"/>\n",
       "<polyline clip-path=\"url(#clip492)\" style=\"stroke:#000000; stroke-width:2; stroke-opacity:0.1; fill:none\" points=\"\n",
       "  1222.58,1486.45 1222.58,47.2441 \n",
       "  \"/>\n",
       "<polyline clip-path=\"url(#clip492)\" style=\"stroke:#000000; stroke-width:2; stroke-opacity:0.1; fill:none\" points=\"\n",
       "  1618.21,1486.45 1618.21,47.2441 \n",
       "  \"/>\n",
       "<polyline clip-path=\"url(#clip492)\" style=\"stroke:#000000; stroke-width:2; stroke-opacity:0.1; fill:none\" points=\"\n",
       "  2013.85,1486.45 2013.85,47.2441 \n",
       "  \"/>\n",
       "<polyline clip-path=\"url(#clip490)\" style=\"stroke:#000000; stroke-width:4; stroke-opacity:1; fill:none\" points=\"\n",
       "  134.584,1486.45 2112.76,1486.45 \n",
       "  \"/>\n",
       "<polyline clip-path=\"url(#clip490)\" style=\"stroke:#000000; stroke-width:4; stroke-opacity:1; fill:none\" points=\"\n",
       "  431.31,1486.45 431.31,1469.18 \n",
       "  \"/>\n",
       "<polyline clip-path=\"url(#clip490)\" style=\"stroke:#000000; stroke-width:4; stroke-opacity:1; fill:none\" points=\"\n",
       "  826.944,1486.45 826.944,1469.18 \n",
       "  \"/>\n",
       "<polyline clip-path=\"url(#clip490)\" style=\"stroke:#000000; stroke-width:4; stroke-opacity:1; fill:none\" points=\"\n",
       "  1222.58,1486.45 1222.58,1469.18 \n",
       "  \"/>\n",
       "<polyline clip-path=\"url(#clip490)\" style=\"stroke:#000000; stroke-width:4; stroke-opacity:1; fill:none\" points=\"\n",
       "  1618.21,1486.45 1618.21,1469.18 \n",
       "  \"/>\n",
       "<polyline clip-path=\"url(#clip490)\" style=\"stroke:#000000; stroke-width:4; stroke-opacity:1; fill:none\" points=\"\n",
       "  2013.85,1486.45 2013.85,1469.18 \n",
       "  \"/>\n",
       "<path clip-path=\"url(#clip490)\" d=\"M 0 0 M425.963 1543.18 L442.282 1543.18 L442.282 1547.12 L420.338 1547.12 L420.338 1543.18 Q423 1540.43 427.583 1535.8 Q432.19 1531.15 433.37 1529.81 Q435.616 1527.28 436.495 1525.55 Q437.398 1523.79 437.398 1522.1 Q437.398 1519.34 435.454 1517.61 Q433.532 1515.87 430.431 1515.87 Q428.231 1515.87 425.778 1516.63 Q423.347 1517.4 420.569 1518.95 L420.569 1514.23 Q423.394 1513.09 425.847 1512.51 Q428.301 1511.93 430.338 1511.93 Q435.708 1511.93 438.903 1514.62 Q442.097 1517.31 442.097 1521.8 Q442.097 1523.93 441.287 1525.85 Q440.5 1527.74 438.393 1530.34 Q437.815 1531.01 434.713 1534.23 Q431.611 1537.42 425.963 1543.18 Z\" fill=\"#000000\" fill-rule=\"evenodd\" fill-opacity=\"1\" /><path clip-path=\"url(#clip490)\" d=\"M 0 0 M829.954 1516.63 L818.148 1535.08 L829.954 1535.08 L829.954 1516.63 M828.727 1512.56 L834.606 1512.56 L834.606 1535.08 L839.537 1535.08 L839.537 1538.97 L834.606 1538.97 L834.606 1547.12 L829.954 1547.12 L829.954 1538.97 L814.352 1538.97 L814.352 1534.46 L828.727 1512.56 Z\" fill=\"#000000\" fill-rule=\"evenodd\" fill-opacity=\"1\" /><path clip-path=\"url(#clip490)\" d=\"M 0 0 M1222.98 1527.98 Q1219.84 1527.98 1217.98 1530.13 Q1216.16 1532.28 1216.16 1536.03 Q1216.16 1539.76 1217.98 1541.93 Q1219.84 1544.09 1222.98 1544.09 Q1226.13 1544.09 1227.96 1541.93 Q1229.81 1539.76 1229.81 1536.03 Q1229.81 1532.28 1227.96 1530.13 Q1226.13 1527.98 1222.98 1527.98 M1232.27 1513.32 L1232.27 1517.58 Q1230.51 1516.75 1228.7 1516.31 Q1226.92 1515.87 1225.16 1515.87 Q1220.53 1515.87 1218.08 1519 Q1215.65 1522.12 1215.3 1528.44 Q1216.66 1526.43 1218.72 1525.36 Q1220.78 1524.27 1223.26 1524.27 Q1228.47 1524.27 1231.48 1527.44 Q1234.51 1530.59 1234.51 1536.03 Q1234.51 1541.36 1231.36 1544.57 Q1228.22 1547.79 1222.98 1547.79 Q1216.99 1547.79 1213.82 1543.21 Q1210.65 1538.6 1210.65 1529.87 Q1210.65 1521.68 1214.53 1516.82 Q1218.42 1511.93 1224.97 1511.93 Q1226.73 1511.93 1228.52 1512.28 Q1230.32 1512.63 1232.27 1513.32 Z\" fill=\"#000000\" fill-rule=\"evenodd\" fill-opacity=\"1\" /><path clip-path=\"url(#clip490)\" d=\"M 0 0 M1618.21 1530.71 Q1614.88 1530.71 1612.96 1532.49 Q1611.06 1534.27 1611.06 1537.4 Q1611.06 1540.52 1612.96 1542.31 Q1614.88 1544.09 1618.21 1544.09 Q1621.55 1544.09 1623.47 1542.31 Q1625.39 1540.5 1625.39 1537.4 Q1625.39 1534.27 1623.47 1532.49 Q1621.57 1530.71 1618.21 1530.71 M1613.54 1528.72 Q1610.53 1527.98 1608.84 1525.92 Q1607.17 1523.86 1607.17 1520.89 Q1607.17 1516.75 1610.11 1514.34 Q1613.07 1511.93 1618.21 1511.93 Q1623.38 1511.93 1626.31 1514.34 Q1629.25 1516.75 1629.25 1520.89 Q1629.25 1523.86 1627.56 1525.92 Q1625.9 1527.98 1622.91 1528.72 Q1626.29 1529.5 1628.17 1531.8 Q1630.06 1534.09 1630.06 1537.4 Q1630.06 1542.42 1626.99 1545.11 Q1623.93 1547.79 1618.21 1547.79 Q1612.5 1547.79 1609.42 1545.11 Q1606.36 1542.42 1606.36 1537.4 Q1606.36 1534.09 1608.26 1531.8 Q1610.16 1529.5 1613.54 1528.72 M1611.82 1521.33 Q1611.82 1524.02 1613.49 1525.52 Q1615.18 1527.03 1618.21 1527.03 Q1621.22 1527.03 1622.91 1525.52 Q1624.63 1524.02 1624.63 1521.33 Q1624.63 1518.65 1622.91 1517.14 Q1621.22 1515.64 1618.21 1515.64 Q1615.18 1515.64 1613.49 1517.14 Q1611.82 1518.65 1611.82 1521.33 Z\" fill=\"#000000\" fill-rule=\"evenodd\" fill-opacity=\"1\" /><path clip-path=\"url(#clip490)\" d=\"M 0 0 M1990.72 1543.18 L1998.36 1543.18 L1998.36 1516.82 L1990.05 1518.49 L1990.05 1514.23 L1998.32 1512.56 L2002.99 1512.56 L2002.99 1543.18 L2010.63 1543.18 L2010.63 1547.12 L1990.72 1547.12 L1990.72 1543.18 Z\" fill=\"#000000\" fill-rule=\"evenodd\" fill-opacity=\"1\" /><path clip-path=\"url(#clip490)\" d=\"M 0 0 M2025.7 1515.64 Q2022.09 1515.64 2020.26 1519.2 Q2018.45 1522.75 2018.45 1529.87 Q2018.45 1536.98 2020.26 1540.55 Q2022.09 1544.09 2025.7 1544.09 Q2029.33 1544.09 2031.14 1540.55 Q2032.97 1536.98 2032.97 1529.87 Q2032.97 1522.75 2031.14 1519.2 Q2029.33 1515.64 2025.7 1515.64 M2025.7 1511.93 Q2031.51 1511.93 2034.56 1516.54 Q2037.64 1521.12 2037.64 1529.87 Q2037.64 1538.6 2034.56 1543.21 Q2031.51 1547.79 2025.7 1547.79 Q2019.89 1547.79 2016.81 1543.21 Q2013.75 1538.6 2013.75 1529.87 Q2013.75 1521.12 2016.81 1516.54 Q2019.89 1511.93 2025.7 1511.93 Z\" fill=\"#000000\" fill-rule=\"evenodd\" fill-opacity=\"1\" /><polyline clip-path=\"url(#clip492)\" style=\"stroke:#000000; stroke-width:2; stroke-opacity:0.1; fill:none\" points=\"\n",
       "  134.584,1270.57 2112.76,1270.57 \n",
       "  \"/>\n",
       "<polyline clip-path=\"url(#clip492)\" style=\"stroke:#000000; stroke-width:2; stroke-opacity:0.1; fill:none\" points=\"\n",
       "  134.584,982.727 2112.76,982.727 \n",
       "  \"/>\n",
       "<polyline clip-path=\"url(#clip492)\" style=\"stroke:#000000; stroke-width:2; stroke-opacity:0.1; fill:none\" points=\"\n",
       "  134.584,694.886 2112.76,694.886 \n",
       "  \"/>\n",
       "<polyline clip-path=\"url(#clip492)\" style=\"stroke:#000000; stroke-width:2; stroke-opacity:0.1; fill:none\" points=\"\n",
       "  134.584,407.045 2112.76,407.045 \n",
       "  \"/>\n",
       "<polyline clip-path=\"url(#clip492)\" style=\"stroke:#000000; stroke-width:2; stroke-opacity:0.1; fill:none\" points=\"\n",
       "  134.584,119.204 2112.76,119.204 \n",
       "  \"/>\n",
       "<polyline clip-path=\"url(#clip490)\" style=\"stroke:#000000; stroke-width:4; stroke-opacity:1; fill:none\" points=\"\n",
       "  134.584,1486.45 134.584,47.2441 \n",
       "  \"/>\n",
       "<polyline clip-path=\"url(#clip490)\" style=\"stroke:#000000; stroke-width:4; stroke-opacity:1; fill:none\" points=\"\n",
       "  134.584,1270.57 158.323,1270.57 \n",
       "  \"/>\n",
       "<polyline clip-path=\"url(#clip490)\" style=\"stroke:#000000; stroke-width:4; stroke-opacity:1; fill:none\" points=\"\n",
       "  134.584,982.727 158.323,982.727 \n",
       "  \"/>\n",
       "<polyline clip-path=\"url(#clip490)\" style=\"stroke:#000000; stroke-width:4; stroke-opacity:1; fill:none\" points=\"\n",
       "  134.584,694.886 158.323,694.886 \n",
       "  \"/>\n",
       "<polyline clip-path=\"url(#clip490)\" style=\"stroke:#000000; stroke-width:4; stroke-opacity:1; fill:none\" points=\"\n",
       "  134.584,407.045 158.323,407.045 \n",
       "  \"/>\n",
       "<polyline clip-path=\"url(#clip490)\" style=\"stroke:#000000; stroke-width:4; stroke-opacity:1; fill:none\" points=\"\n",
       "  134.584,119.204 158.323,119.204 \n",
       "  \"/>\n",
       "<path clip-path=\"url(#clip490)\" d=\"M 0 0 M82.2651 1283.91 L98.5845 1283.91 L98.5845 1287.85 L76.6401 1287.85 L76.6401 1283.91 Q79.3022 1281.16 83.8855 1276.53 Q88.4919 1271.88 89.6725 1270.53 Q91.9178 1268.01 92.7975 1266.27 Q93.7002 1264.51 93.7002 1262.82 Q93.7002 1260.07 91.7558 1258.33 Q89.8345 1256.6 86.7327 1256.6 Q84.5336 1256.6 82.0799 1257.36 Q79.6494 1258.13 76.8716 1259.68 L76.8716 1254.95 Q79.6957 1253.82 82.1494 1253.24 Q84.6031 1252.66 86.6401 1252.66 Q92.0104 1252.66 95.2049 1255.35 Q98.3993 1258.03 98.3993 1262.52 Q98.3993 1264.65 97.5891 1266.57 Q96.8021 1268.47 94.6956 1271.06 Q94.1169 1271.74 91.0151 1274.95 Q87.9132 1278.15 82.2651 1283.91 Z\" fill=\"#000000\" fill-rule=\"evenodd\" fill-opacity=\"1\" /><path clip-path=\"url(#clip490)\" d=\"M 0 0 M89.0012 969.521 L77.1957 987.97 L89.0012 987.97 L89.0012 969.521 M87.7743 965.447 L93.6539 965.447 L93.6539 987.97 L98.5845 987.97 L98.5845 991.858 L93.6539 991.858 L93.6539 1000.01 L89.0012 1000.01 L89.0012 991.858 L73.3994 991.858 L73.3994 987.345 L87.7743 965.447 Z\" fill=\"#000000\" fill-rule=\"evenodd\" fill-opacity=\"1\" /><path clip-path=\"url(#clip490)\" d=\"M 0 0 M87.0567 693.022 Q83.9086 693.022 82.0568 695.175 Q80.2281 697.328 80.2281 701.078 Q80.2281 704.805 82.0568 706.981 Q83.9086 709.133 87.0567 709.133 Q90.2049 709.133 92.0336 706.981 Q93.8854 704.805 93.8854 701.078 Q93.8854 697.328 92.0336 695.175 Q90.2049 693.022 87.0567 693.022 M96.3391 678.37 L96.3391 682.629 Q94.5799 681.796 92.7743 681.356 Q90.9919 680.916 89.2327 680.916 Q84.6031 680.916 82.1494 684.041 Q79.7188 687.166 79.3716 693.485 Q80.7373 691.471 82.7975 690.407 Q84.8577 689.319 87.3345 689.319 Q92.5428 689.319 95.5521 692.49 Q98.5845 695.638 98.5845 701.078 Q98.5845 706.402 95.4363 709.62 Q92.2882 712.837 87.0567 712.837 Q81.0614 712.837 77.8901 708.254 Q74.7189 703.647 74.7189 694.921 Q74.7189 686.726 78.6077 681.865 Q82.4966 676.981 89.0475 676.981 Q90.8067 676.981 92.5891 677.328 Q94.3947 677.675 96.3391 678.37 Z\" fill=\"#000000\" fill-rule=\"evenodd\" fill-opacity=\"1\" /><path clip-path=\"url(#clip490)\" d=\"M 0 0 M86.7327 407.913 Q83.3994 407.913 81.4781 409.695 Q79.5799 411.478 79.5799 414.603 Q79.5799 417.728 81.4781 419.51 Q83.3994 421.293 86.7327 421.293 Q90.066 421.293 91.9873 419.51 Q93.9086 417.705 93.9086 414.603 Q93.9086 411.478 91.9873 409.695 Q90.0891 407.913 86.7327 407.913 M82.0568 405.922 Q79.0475 405.182 77.3577 403.121 Q75.6911 401.061 75.6911 398.098 Q75.6911 393.955 78.6309 391.547 Q81.5938 389.14 86.7327 389.14 Q91.8947 389.14 94.8345 391.547 Q97.7743 393.955 97.7743 398.098 Q97.7743 401.061 96.0845 403.121 Q94.4178 405.182 91.4317 405.922 Q94.8113 406.709 96.6863 409.001 Q98.5845 411.293 98.5845 414.603 Q98.5845 419.626 95.5058 422.311 Q92.4502 424.996 86.7327 424.996 Q81.0151 424.996 77.9364 422.311 Q74.8809 419.626 74.8809 414.603 Q74.8809 411.293 76.779 409.001 Q78.6772 406.709 82.0568 405.922 M80.3438 398.538 Q80.3438 401.223 82.0105 402.728 Q83.7003 404.233 86.7327 404.233 Q89.7419 404.233 91.4317 402.728 Q93.1447 401.223 93.1447 398.538 Q93.1447 395.853 91.4317 394.348 Q89.7419 392.844 86.7327 392.844 Q83.7003 392.844 82.0105 394.348 Q80.3438 395.853 80.3438 398.538 Z\" fill=\"#000000\" fill-rule=\"evenodd\" fill-opacity=\"1\" /><path clip-path=\"url(#clip490)\" d=\"M 0 0 M51.6634 132.549 L59.3023 132.549 L59.3023 106.184 L50.9921 107.85 L50.9921 103.591 L59.256 101.924 L63.9319 101.924 L63.9319 132.549 L71.5707 132.549 L71.5707 136.484 L51.6634 136.484 L51.6634 132.549 Z\" fill=\"#000000\" fill-rule=\"evenodd\" fill-opacity=\"1\" /><path clip-path=\"url(#clip490)\" d=\"M 0 0 M86.6401 105.003 Q83.029 105.003 81.2003 108.568 Q79.3948 112.109 79.3948 119.239 Q79.3948 126.345 81.2003 129.91 Q83.029 133.452 86.6401 133.452 Q90.2743 133.452 92.0799 129.91 Q93.9086 126.345 93.9086 119.239 Q93.9086 112.109 92.0799 108.568 Q90.2743 105.003 86.6401 105.003 M86.6401 101.299 Q92.4502 101.299 95.5058 105.906 Q98.5845 110.489 98.5845 119.239 Q98.5845 127.966 95.5058 132.572 Q92.4502 137.156 86.6401 137.156 Q80.8299 137.156 77.7512 132.572 Q74.6957 127.966 74.6957 119.239 Q74.6957 110.489 77.7512 105.906 Q80.8299 101.299 86.6401 101.299 Z\" fill=\"#000000\" fill-rule=\"evenodd\" fill-opacity=\"1\" /><g clip-path=\"url(#clip492)\">\n",
       "<image width=\"1978\" height=\"1439\" xlink:href=\"data:image/png;base64,\n",
       "iVBORw0KGgoAAAANSUhEUgAAB7oAAAWfCAYAAAA1bPlQAAAgAElEQVR4nOzbsUkDYQCG4Ts5EMQl\n",
       "3CITpHEJd3AOt7CyEds0gSySJdIowllbpLD678XnmeDrX775e31dJ+CXZX4aPQE25+F+P3oCbM75\n",
       "chg9AQAAAADgX7oZPQAAAAAAAAAA/kLoBgAAAAAAACBF6AYAAAAAAAAgRegGAAAAAAAAIEXoBgAA\n",
       "AAAAACBF6AYAAAAAAAAgRegGAAAAAAAAIEXoBgAAAAAAACBF6AYAAAAAAAAgRegGAAAAAAAAIEXo\n",
       "BgAAAAAAACBF6AYAAAAAAAAgRegGAAAAAAAAIEXoBgAAAAAAACBF6AYAAAAAAAAgRegGAAAAAAAA\n",
       "IEXoBgAAAAAAACBF6AYAAAAAAAAgRegGAAAAAAAAIEXoBgAAAAAAACBF6AYAAAAAAAAgRegGAAAA\n",
       "AAAAIEXoBgAAAAAAACBF6AYAAAAAAAAgRegGAAAAAAAAIEXoBgAAAAAAACBF6AYAAAAAAAAgRegG\n",
       "AAAAAAAAIEXoBgAAAAAAACBF6AYAAAAAAAAgRegGAAAAAAAAIEXoBgAAAAAAACBF6AYAAAAAAAAg\n",
       "RegGAAAAAAAAIEXoBgAAAAAAACBF6AYAAAAAAAAgRegGAAAAAAAAIEXoBgAAAAAAACBF6AYAAAAA\n",
       "AAAgRegGAAAAAAAAIEXoBgAAAAAAACBF6AYAAAAAAAAgRegGAAAAAAAAIEXoBgAAAAAAACBF6AYA\n",
       "AAAAAAAgRegGAAAAAAAAIEXoBgAAAAAAACBF6AYAAAAAAAAgRegGAAAAAAAAIEXoBgAAAAAAACBF\n",
       "6AYAAAAAAAAgRegGAAAAAAAAIEXoBgAAAAAAACBF6AYAAAAAAAAgRegGAAAAAAAAIEXoBgAAAAAA\n",
       "ACBF6AYAAAAAAAAgRegGAAAAAAAAIEXoBgAAAAAAACBF6AYAAAAAAAAgRegGAAAAAAAAIEXoBgAA\n",
       "AAAAACBF6AYAAAAAAAAgRegGAAAAAAAAIEXoBgAAAAAAACBF6AYAAAAAAAAgRegGAAAAAAAAIEXo\n",
       "BgAAAAAAACBF6AYAAAAAAAAgRegGAAAAAAAAIEXoBgAAAAAAACBF6AYAAAAAAAAgRegGAAAAAAAA\n",
       "IEXoBgAAAAAAACBF6AYAAAAAAAAgRegGAAAAAAAAIEXoBgAAAAAAACBF6AYAAAAAAAAgRegGAAAA\n",
       "AAAAIEXoBgAAAAAAACBF6AYAAAAAAAAgRegGAAAAAAAAIEXoBgAAAAAAACBF6AYAAAAAAAAgRegG\n",
       "AAAAAAAAIEXoBgAAAAAAACBF6AYAAAAAAAAgRegGAAAAAAAAIEXoBgAAAAAAACBF6AYAAAAAAAAg\n",
       "RegGAAAAAAAAIEXoBgAAAAAAACBF6AYAAAAAAAAgRegGAAAAAAAAIEXoBgAAAAAAACBF6AYAAAAA\n",
       "AAAgRegGAAAAAAAAIEXoBgAAAAAAACBF6AYAAAAAAAAgRegGAAAAAAAAIEXoBgAAAAAAACBF6AYA\n",
       "AAAAAAAgRegGAAAAAAAAIEXoBgAAAAAAACBF6AYAAAAAAAAgRegGAAAAAAAAIEXoBgAAAAAAACBF\n",
       "6AYAAAAAAAAgRegGAAAAAAAAIEXoBgAAAAAAACBF6AYAAAAAAAAgRegGAAAAAAAAIEXoBgAAAAAA\n",
       "ACBF6AYAAAAAAAAgRegGAAAAAAAAIEXoBgAAAAAAACBF6AYAAAAAAAAgRegGAAAAAAAAIEXoBgAA\n",
       "AAAAACBF6AYAAAAAAAAgRegGAAAAAAAAIEXoBgAAAAAAACBF6AYAAAAAAAAgRegGAAAAAAAAIEXo\n",
       "BgAAAAAAACBF6AYAAAAAAAAgRegGAAAAAAAAIEXoBgAAAAAAACBF6AYAAAAAAAAgRegGAAAAAAAA\n",
       "IEXoBgAAAAAAACBF6AYAAAAAAAAgRegGAAAAAAAAIEXoBgAAAAAAACBF6AYAAAAAAAAgRegGAAAA\n",
       "AAAAIEXoBgAAAAAAACBF6AYAAAAAAAAgRegGAAAAAAAAIEXoBgAAAAAAACBF6AYAAAAAAAAgRegG\n",
       "AAAAAAAAIEXoBgAAAAAAACBlOe4+Rm8AIOB8OYyeAAAAAAAAME2TRzcAAAAAAAAAMUI3AAAAAAAA\n",
       "AClCNwAAAAAAAAApQjcAAAAAAAAAKUI3AAAAAAAAAClCNwAAAAAAAAApQjcAAAAAAAAAKUI3AAAA\n",
       "AAAAAClCNwAAAAAAAAApQjcAAAAAAAAAKUI3AAAAAAAAAClCNwAAAAAAAAApQjcAAAAAAAAAKUI3\n",
       "AAAAAAAAAClCNwAAAAAAAAApQjcAAAAAAAAAKUI3AAAAAAAAAClCNwAAAAAAAAApQjcAAAAAAAAA\n",
       "KUI3AAAAAAAAAClCNwAAAAAAAAApQjcAAAAAAAAAKUI3AAAAAAAAAClCNwAAAAAAAAApQjcAAAAA\n",
       "AAAAKUI3AAAAAAAAAClCNwAAAAAAAAApQjcAAAAAAAAAKUI3AAAAAAAAAClCNwAAAAAAAAApQjcA\n",
       "AAAAAAAAKUI3AAAAAAAAAClCNwAAAAAAAAApQjcAAAAAAAAAKUI3AAAAAAAAAClCNwAAAAAAAAAp\n",
       "QjcAAAAAAAAAKUI3AAAAAAAAAClCNwAAAAAAAAApQjcAAAAAAAAAKUI3AAAAAAAAAClCNwAAAAAA\n",
       "AAApQjcAAAAAAAAAKUI3AAAAAAAAAClCNwAAAAAAAAApQjcAAAAAAAAAKUI3AAAAAAAAAClCNwAA\n",
       "AAAAAAApQjcAAAAAAAAAKUI3AAAAAAAAAClCNwAAAAAAAAApQjcAAAAAAAAAKUI3AAAAAAAAAClC\n",
       "NwAAAAAAAAApQjcAAAAAAAAAKUI3AAAAAAAAAClCNwAAAAAAAAApQjcAAAAAAAAAKUI3AAAAAAAA\n",
       "AClCNwAAAAAAAAApQjcAAAAAAAAAKUI3AAAAAAAAAClCNwAAAAAAAAApQjcAAAAAAAAAKUI3AAAA\n",
       "AAAAAClCNwAAAAAAAAApQjcAAAAAAAAAKUI3AAAAAAAAAClCNwAAAAAAAAApQjcAAAAAAAAAKUI3\n",
       "AAAAAAAAAClCNwAAAAAAAAApQjcAAAAAAAAAKUI3AAAAAAAAAClCNwAAAAAAAAApQjcAAAAAAAAA\n",
       "KUI3AAAAAAAAAClCNwAAAAAAAAApQjcAAAAAAAAAKUI3AAAAAAAAAClCNwAAAAAAAAApQjcAAAAA\n",
       "AAAAKUI3AAAAAAAAAClCNwAAAAAAAAApQjcAAAAAAAAAKUI3AAAAAAAAAClCNwAAAAAAAAApQjcA\n",
       "AAAAAAAAKUI3AAAAAAAAAClCNwAAAAAAAAApQjcAAAAAAAAAKUI3AAAAAAAAAClCNwAAAAAAAAAp\n",
       "QjcAAAAAAAAAKUI3AAAAAAAAAClCNwAAAAAAAAApQjcAAAAAAAAAKUI3AAAAAAAAAClCNwAAAAAA\n",
       "AAApQjcAAAAAAAAAKUI3AAAAAAAAAClCNwAAAAAAAAApQjcAAAAAAAAAKUI3AAAAAAAAAClCNwAA\n",
       "AAAAAAApQjcAAAAAAAAAKUI3AAAAAAAAAClCNwAAAAAAAAApQjcAAAAAAAAAKUI3AAAAAAAAAClC\n",
       "NwAAAAAAAAApQjcAAAAAAAAAKUI3AAAAAAAAAClCNwAAAAAAAAApQjcAAAAAAAAAKUI3AAAAAAAA\n",
       "AClCNwAAAAAAAAApQjcAAAAAAAAAKUI3AAAAAAAAAClCNwAAAAAAAAApQjcAAAAAAAAAKUI3AAAA\n",
       "AAAAAClCNwAAAAAAAAApQjcAAAAAAAAAKUI3AAAAAAAAAClCNwAAAAAAAAApQjcAAAAAAAAAKUI3\n",
       "AAAAAAAAAClCNwAAAAAAAAApQjcAAAAAAAAAKUI3AAAAAAAAAClCNwAAAAAAAAApQjcAAAAAAAAA\n",
       "KUI3AAAAAAAAAClCNwAAAAAAAAApQjcAAAAAAAAAKUI3AAAAAAAAAClCNwAAAAAAAAApQjcAAAAA\n",
       "AAAAKUI3AAAAAAAAAClCNwAAAAAAAAApQjcAAAAAAAAAKUI3AAAAAAAAACnz58vdOnoEbM3t89fo\n",
       "CQAAAAAAAMAVHt0AAAAAAAAApAjdAAAAAAAAAKQI3QAAAAAAAACkCN0AAAAAAAAApAjdAAAAAAAA\n",
       "AKQI3QAAAAAAAACkCN0AAAAAAAAApAjdAAAAAAAAAKQI3QAAAAAAAACkCN0AAAAAAAAApAjdAAAA\n",
       "AAAAAKQI3QAAAAAAAACkCN0AAAAAAAAApAjdAAAAAAAAAKQI3QAAAAAAAACkCN0AAAAAAAAApAjd\n",
       "AAAAAAAAAKQI3QAAAAAAAACkCN0AAAAAAAAApAjdAAAAAAAAAKQI3QAAAAAAAACkCN0AAAAAAAAA\n",
       "pAjdAAAAAAAAAKQI3QAAAAAAAACkCN0AAAAAAAAApAjdAAAAAAAAAKQI3QAAAAAAAACkCN0AAAAA\n",
       "AAAApAjdAAAAAAAAAKQI3QAAAAAAAACkCN0AAAAAAAAApAjdAAAAAAAAAKQI3QAAAAAAAACkCN0A\n",
       "AAAAAAAApAjdAAAAAAAAAKQI3QAAAAAAAACkCN0AAAAAAAAApAjdAAAAAAAAAKQI3QAAAAAAAACk\n",
       "CN0AAAAAAAAApAjdAAAAAAAAAKQI3QAAAAAAAACkCN0AAAAAAAAApAjdAAAAAAAAAKQI3QAAAAAA\n",
       "AACkCN0AAAAAAAAApAjdAAAAAAAAAKQI3QAAAAAAAACkCN0AAAAAAAAApAjdAAAAAAAAAKQI3QAA\n",
       "AAAAAACkCN0AAAAAAAAApAjdAAAAAAAAAKQI3QAAAAAAAACkCN0AAAAAAAAApAjdAAAAAAAAAKQI\n",
       "3QAAAAAAAACkCN0AAAAAAAAApAjdAAAAAAAAAKQI3QAAAAAAAACkCN0AAAAAAAAApAjdAAAAAAAA\n",
       "AKQI3QAAAAAAAACkCN0AAAAAAAAApAjdAAAAAAAAAKQI3QAAAAAAAACkCN0AAAAAAAAApAjdAAAA\n",
       "AAAAAKQI3QAAAAAAAACkCN0AAAAAAAAApAjdAAAAAAAAAKQI3QAAAAAAAACkCN0AAAAAAAAApAjd\n",
       "AAAAAAAAAKQI3QAAAAAAAACkCN0AAAAAAAAApAjdAAAAAAAAAKQI3QAAAAAAAACkCN0AAAAAAAAA\n",
       "pAjdAAAAAAAAAKQI3QAAAAAAAACkCN0AAAAAAAAApAjdAAAAAAAAAKQI3QAAAAAAAACkCN0AAAAA\n",
       "AAAApAjdAAAAAAAAAKQI3QAAAAAAAACkCN0AAAAAAAAApAjdAAAAAAAAAKQI3QAAAAAAAACkCN0A\n",
       "AAAAAAAApAjdAAAAAAAAAKQI3QAAAAAAAACkCN0AAAAAAAAApAjdAAAAAAAAAKQI3QAAAAAAAACk\n",
       "CN0AAAAAAAAApAjdAAAAAAAAAKQI3QAAAAAAAACkCN0AAAAAAAAApAjdAAAAAAAAAKQI3QAAAAAA\n",
       "AACkCN0AAAAAAAAApAjdAAAAAAAAAKQI3QAAAAAAAACkCN0AAAAAAAAApAjdAAAAAAAAAKQI3QAA\n",
       "AAAAAACkCN0AAAAAAAAApAjdAAAAAAAAAKQI3QAAAAAAAACkCN0AAAAAAAAApAjdAAAAAAAAAKQI\n",
       "3QAAAAAAAACkCN0AAAAAAAAApAjdAAAAAAAAAKQI3QAAAAAAAACkCN0AAAAAAAAApAjdAAAAAAAA\n",
       "AKQI3QAAAAAAAACkCN0AAAAAAAAApAjdAAAAAAAAAKQI3QAAAAAAAACkCN0AAAAAAAAApAjdAAAA\n",
       "AAAAAKQI3QAAAAAAAACkCN0AAAAAAAAApAjdAAAAAAAAAKQI3QAAAAAAAACkCN0AAAAAAAAApAjd\n",
       "AAAAAAAAAKQI3QAAAAAAAACkCN0AAAAAAAAApAjdAAAAAAAAAKQI3QAAAAAAAACkCN0AAAAAAAAA\n",
       "pAjdAAAAAAAAAKQI3QAAAAAAAACkCN0AAAAAAAAApAjdAAAAAAAAAKQI3QAAAAAAAACkCN0AAAAA\n",
       "AAAApAjdAAAAAAAAAKQsp7fH0Rtgg95HDwAAAAAAAACu8OgGAAAAAAAAIEXoBgAAAAAAACBF6AYA\n",
       "AAAAAAAgRegGAAAAAAAAIEXoBgAAAAAAACBF6AYAAAAAAAAgRegGAAAAAAAAIEXoBgAAAAAAACBF\n",
       "6AYAAAAAAAAgRegGAAAAAAAAIEXoBgAAAAAAACBF6AYAAAAAAAAgRegGAAAAAAAAIEXoBgAAAAAA\n",
       "ACBF6AYAAAAAAAAgRegGAAAAAAAAIEXoBgAAAAAAACBF6AYAAAAAAAAgRegGAAAAAAAAIEXoBgAA\n",
       "AAAAACBF6AYAAAAAAAAgRegGAAAAAAAAIEXoBgAAAAAAACBF6AYAAAAAAAAgRegGAAAAAAAAIEXo\n",
       "BgAAAAAAACBF6AYAAAAAAAAgRegGAAAAAAAAIEXoBgAAAAAAACBF6AYAAAAAAAAgRegGAAAAAAAA\n",
       "IEXoBgAAAAAAACBF6AYAAAAAAAAgRegGAAAAAAAAIEXoBgAAAAAAACBF6AYAAAAAAAAgRegGAAAA\n",
       "AAAAIEXoBgAAAAAAACBF6AYAAAAAAAAgRegGAAAAAAAAIEXoBgAAAAAAACBF6AYAAAAAAAAgRegG\n",
       "AAAAAAAAIEXoBgAAAAAAACBF6AYAAAAAAAAgRegGAAAAAAAAIEXoBgAAAAAAACBF6AYAAAAAAAAg\n",
       "RegGAAAAAAAAIEXoBgAAAAAAACBF6AYAAAAAAAAgRegGAAAAAAAAIEXoBgAAAAAAACBF6AYAAAAA\n",
       "AAAgRegGAAAAAAAAIEXoBgAAAAAAACBF6AYAAAAAAAAgRegGAAAAAAAAIEXoBgAAAAAAACBF6AYA\n",
       "AAAAAAAgRegGAAAAAAAAIEXoBgAAAAAAACBF6AYAAAAAAAAgRegGAAAAAAAAIEXoBgAAAAAAACBF\n",
       "6AYAAAAAAAAgRegGAAAAAAAAIEXoBgAAAAAAACBF6AYAAAAAAAAgRegGAAAAAAAAIEXoBgAAAAAA\n",
       "ACBF6AYAAAAAAAAgRegGAAAAAAAAIEXoBgAAAAAAACBF6AYAAAAAAAAgRegGAAAAAAAAIEXoBgAA\n",
       "AAAAACBF6AYAAAAAAAAgRegGAAAAAAAAIEXoBgAAAAAAACBF6AYAAAAAAAAgRegGAAAAAAAAIEXo\n",
       "BgAAAAAAACBF6AYAAAAAAAAgRegGAAAAAAAAIEXoBgAAAAAAACBF6AYAAAAAAAAgRegGAAAAAAAA\n",
       "IEXoBgAAAAAAACBF6AYAAAAAAAAgRegGAAAAAAAAIEXoBgAAAAAAACBF6AYAAAAAAAAgRegGAAAA\n",
       "AAAA+GHfDm0QiAIgCp44iSXBovAUQSWURQO0QAcYPAYsCZYCqIAE9+8lMxWsf1lShG4AAAAAAAAA\n",
       "UoRuAAAAAAAAAFKEbgAAAAAAAABShG4AAAAAAAAAUoRuAAAAAAAAAFKEbgAAAAAAAABShG4AAAAA\n",
       "AAAAUoRuAAAAAAAAAFKEbgAAAAAAAABShG4AAAAAAAAAUoRuAAAAAAAAAFKEbgAAAAAAAABShG4A\n",
       "AAAAAAAAUoRuAAAAAAAAAFKEbgAAAAAAAABShG4AAAAAAAAAUoRuAAAAAAAAAFKEbgAAAAAAAABS\n",
       "hG4AAAAAAAAAUoRuAAAAAAAAAFKEbgAAAAAAAABShG4AAAAAAAAAUoRuAAAAAAAAAFKEbgAAAAAA\n",
       "AABShG4AAAAAAAAAUoRuAAAAAAAAAFKEbgAAAAAAAABShG4AAAAAAAAAUoRuAAAAAAAAAFKEbgAA\n",
       "AAAAAABShG4AAAAAAAAAUoRuAAAAAAAAAFKEbgAAAAAAAABShG4AAAAAAAAAUoRuAAAAAAAAAFKE\n",
       "bgAAAAAAAABShG4AAAAAAAAAUoRuAAAAAAAAAFKEbgAAAAAAAABShG4AAAAAAAAAUoRuAAAAAAAA\n",
       "AFKEbgAAAAAAAABShG4AAAAAAAAAUoRuAAAAAAAAAFKEbgAAAAAAAABShG4AAAAAAAAAUoRuAAAA\n",
       "AAAAAFKEbgAAAAAAAABShG4AAAAAAAAAUubbez16AyzOdnUYPQEW5/m5jJ4AAAAAAAAwTZNHNwAA\n",
       "AAAAAAAxQjcAAAAAAAAAKUI3AAAAAAAAAClCNwAAAAAAAAApQjcAAAAAAAAAKUI3AAAAAAAAAClC\n",
       "NwAAAAAAAAApQjcAAAAAAAAAKUI3AAAAAAAAAClCNwAAAAAAAAApQjcAAAAAAAAAKUI3AAAAAAAA\n",
       "AClCNwAAAAAAAAApQjcAAAAAAAAAKUI3AAAAAAAAAClCNwAAAAAAAAApQjcAAAAAAAAAKUI3AAAA\n",
       "AAAAAClCNwAAAAAAAAApQjcAAAAAAAAAKUI3AAAAAAAAAClCNwAAAAAAAAApQjcAAAAAAAAAKUI3\n",
       "AAAAAAAAAClCNwAAAAAAAAApQjcAAAAAAAAAKUI3AAAAAAAAAClCNwAAAAAAAAApQjcAAAAAAAAA\n",
       "KUI3AAAAAAAAAClCNwAAAAAAAAApQjcAAAAAAAAAKUI3AAAAAAAAAClCNwAAAAAAAAApQjcAAAAA\n",
       "AAAAKUI3AAAAAAAAAClCNwAAAAAAAAApQjcAAAAAAAAAKUI3AAAAAAAAAClCNwAAAAAAAAApQjcA\n",
       "AAAAAAAAKUI3AAAAAAAAAClCNwAAAAAAAAApQjcAAAAAAAAAKUI3AAAAAAAAAClCNwAAAAAAAAAp\n",
       "QjcAAAAAAAAAKUI3AAAAAAAAAClCNwAAAAAAAAApQjcAAAAAAAAAKUI3AAAAAAAAAClCNwAAAAAA\n",
       "AAApQjcAAAAAAAAAKUI3AAAAAAAAAClCNwAAAAAAAAApQjcAAAAAAAAAKUI3AAAAAAAAAClCNwAA\n",
       "AAAAAAApQjcAAAAAAAAAKUI3AAAAAAAAAClCNwAAAAAAAAApQjcAAAAAAAAAKUI3AAAAAAAAAClC\n",
       "NwAAAAAAAAApQjcAAAAAAAAAKUI3AAAAAAAAAClCNwAAAAAAAAApQjcAAAAAAAAAKUI3AAAAAAAA\n",
       "AClCNwAAAAAAAAApQjcAAAAAAAAAKUI3AAAAAAAAAClCNwAAAAAAAAApQjcAAAAAAAAAKUI3AAAA\n",
       "AAAAAClCNwAAAAAAAAApQjcAAAAAAAAAKUI3AAAAAAAAAClCNwAAAAAAAAApQjcAAAAAAAAAKUI3\n",
       "AAAAAAAAAClCNwAAAAAAAAApQjcAAAAAAAAAKUI3AAAAAAAAAClCNwAAAAAAAAApQjcAAAAAAAAA\n",
       "KUI3AAAAAAAAAClCNwAAAAAAAAApQjcAAAAAAAAAKUI3AAAAAAAAAClCNwAAAAAAAAApQjcAAAAA\n",
       "AAAAKUI3AAAAAAAAAClCNwAAAAAAAAApQjcAAAAAAAAAKUI3AAAAAAAAAClCNwAAAAAAAAApQjcA\n",
       "AAAAAAAAKUI3AAAAAAAAAClCNwAAAAAAAAApQjcAAAAAAAAAKUI3AAAAAAAAAClCNwAAAAAAAAAp\n",
       "QjcAAAAAAAAAKUI3AAAAAAAAAClCNwAAAAAAAAApQjcAAAAAAAAAKUI3AAAAAAAAAClCNwAAAAAA\n",
       "AAApQjcAAAAAAAAAKUI3AAAAAAAAAClCNwAAAAAAAAApQjcAAAAAAAAAKUI3AAAAAAAAAClCNwAA\n",
       "AAAAAAApQjcAAAAAAAAAKUI3AAAAAAAAAClCNwAAAAAAAAApQjcAAAAAAAAAKUI3AAAAAAAAAClC\n",
       "NwAAAAAAAAApQjcAAAAAAAAAKUI3AAAAAAAAAClCNwAAAAAAAAApQjcAAAAAAAAAKUI3AAAAAAAA\n",
       "AClCNwAAAAAAAAApQjcAAAAAAAAAKUI3AAAAAAAAAClCNwAAAAAAAAApQjcAAAAAAAAAKUI3AAAA\n",
       "AAAAAClCNwAAAAAAAAApQjcAAAAAAAAAKUI3AAAAAAAAAClCNwAAAAAAAAApQjcAAAAAAAAAKUI3\n",
       "AAAAAAAAAClCNwAAAAAAAAApQjcAAAAAAAAAKUI3AAAAAAAAAClCNwAAAAAAAAApQjcAAAAAAAAA\n",
       "KfN+/R69ARbn+biMngAAAAAAAAD84NENAAAAAAAAQIrQDQAAAAAAAECK0A0AAAAAAABAitANAAAA\n",
       "AAAAQIrQDQAAAAAAAECK0A0AAAAAAABAitANAAAAAAAAQIrQDQAAAAAAAECK0A0AAAAAAABAitAN\n",
       "AAAAAAAAQIrQDQAAAAAAAECK0A0AAAAAAABAitANAAAAAAAAQIrQDQAAAAAAAECK0A0AAAAAAABA\n",
       "itANAAAAAAAAQIrQDQAAAAAAAECK0A0AAAAAAABAitANAAAAAAAAQIrQDQAAAAAAAECK0A0AAAAA\n",
       "AABAitANAAAAAAAAQIrQDQAAAAAAAECK0A0AAAAAAABAitANAAAAAAAAQIrQDQAAAAAAAECK0A0A\n",
       "AAAAAABAitANAAAAAAAAQIrQDQAAAAAAAECK0A0AAAAAAABAitANAAAAAAAAQIrQDQAAAAAAAECK\n",
       "0A0AAAAAAABAitANAAAAAAAAQIrQDQAAAAAAAECK0A0AAAAAAABAitANAAAAAAAAQIrQDQAAAAAA\n",
       "AECK0A0AAAAAAABAitANAAAAAAAAQIrQDQAAAAAAAECK0A0AAAAAAABAitANAAAAAAAAQIrQDQAA\n",
       "AAAAAECK0A0AAAAAAABAitANAAAAAAAAQIrQDQAAAAAAAECK0A0AAAAAAABAitANAAAAAAAAQIrQ\n",
       "DQAAAAAAAECK0A0AAAAAAABAitANAAAAAAAAQIrQDQAAAAAAAECK0A0AAAAAAABAitANAAAAAAAA\n",
       "QIrQDQAAAAAAAECK0A0AAAAAAABAitANAAAAAAAAQIrQDQAAAAAAAECK0A0AAAAAAABAitANAAAA\n",
       "AAAAQIrQDQAAAAAAAECK0A0AAAAAAABAitANAAAAAAAAQIrQDQAAAAAAAECK0A0AAAAAAABAitAN\n",
       "AAAAAAAAQIrQDQAAAAAAAECK0A0AAAAAAABAitANAAAAAAAAQIrQDQAAAAAAAECK0A0AAAAAAABA\n",
       "itANAAAAAAAAQIrQDQAAAAAAAECK0A0AAAAAAABAitANAAAAAAAAQIrQDQAAAAAAAECK0A0AAAAA\n",
       "AABAitANAAAAAAAAQIrQDQAAAAAAAECK0Mj3dl0AABktSURBVA0AAAAAAABAitANAAAAAAAAQIrQ\n",
       "DQAAAAAAAECK0A0AAAAAAABAitANAAAAAAAAQIrQDQAAAAAAAECK0A0AAAAAAABAitANAAAAAAAA\n",
       "QIrQDQAAAAAAAECK0A0AAAAAAABAitANAAAAAAAAQIrQDQAAAAAAAECK0A0AAAAAAABAitANAAAA\n",
       "AAAAQIrQDQAAAAAAAECK0A0AAAAAAABAitANAAAAAAAAQIrQDQAAAAAAAECK0A0AAAAAAABAitAN\n",
       "AAAAAAAAQIrQDQAAAAAAAECK0A0AAAAAAABAitANAAAAAAAAQIrQDQAAAAAAAECK0A0AAAAAAABA\n",
       "itANAAAAAAAAQIrQDQAAAAAAAECK0A0AAAAAAABAitANAAAAAAAAQIrQDQAAAAAAAECK0A0AAAAA\n",
       "AABAitANAAAAAAAAQIrQDQAAAAAAAECK0A0AAAAAAABAitANAAAAAAAAQIrQDQAAAAAAAECK0A0A\n",
       "AAAAAABAitANAAAAAAAAQIrQDQAAAAAAAECK0A0AAAAAAABAitANAAAAAAAAQIrQDQAAAAAAAECK\n",
       "0A0AAAAAAABAitANAAAAAAAAQIrQDQAAAAAAAECK0A0AAAAAAABAitANAAAAAAAAQIrQDQAAAAAA\n",
       "AECK0A0AAAAAAABAitANAAAAAAAAQIrQDQAAAAAAAECK0A0AAAAAAABAitANAAAAAAAAQIrQDQAA\n",
       "AAAAAECK0A0AAAAAAABAitANAAAAAAAAQIrQDQAAAAAAAECK0A0AAAAAAABAitANAAAAAAAAQIrQ\n",
       "DQAAAAAAAECK0A0AAAAAAABAitANAAAAAAAAQIrQDQAAAAAAAEDKfLpvRm8AAAAAAAAAgL95dAMA\n",
       "AAAAAACQInQDAAAAAAAAkCJ0AwAAAAAAAJAidAMAAAAAAACQInQDAAAAAAAAkCJ0AwAAAAAAAJAi\n",
       "dAMAAAAAAACQInQDAAAAAAAAkCJ0AwAAAAAAAJAidAMAAAAAAACQInQDAAAAAAAAkCJ0AwAAAAAA\n",
       "AJAidAMAAAAAAACQInQDAAAAAAAAkCJ0AwAAAAAAAJAidAMAAAAAAACQInQDAAAAAAAAkCJ0AwAA\n",
       "AAAAAJAidAMAAAAAAACQInQDAAAAAAAAkCJ0AwAAAAAAAJAidAMAAAAAAACQInQDAAAAAAAAkCJ0\n",
       "AwAAAAAAAJAidAMAAAAAAACQInQDAAAAAAAAkCJ0AwAAAAAAAJAidAMAAAAAAACQInQDAAAAAAAA\n",
       "kCJ0AwAAAAAAAJAidAMAAAAAAACQInQDAAAAAAAAkCJ0AwAAAAAAAJAidAMAAAAAAACQInQDAAAA\n",
       "AAAAkCJ0AwAAAAAAAJAidAMAAAAAAACQInQDAAAAAAAAkCJ0AwAAAAAAAJAidAMAAAAAAACQInQD\n",
       "AAAAAAAAkCJ0AwAAAAAAAJAidAMAAAAAAACQInQDAAAAAAAAkCJ0AwAAAAAAAJAidAMAAAAAAACQ\n",
       "InQDAAAAAAAAkCJ0AwAAAAAAAJAidAMAAAAAAACQInQDAAAAAAAAkCJ0AwAAAAAAAJAidAMAAAAA\n",
       "AACQInQDAAAAAAAAkCJ0AwAAAAAAAJAidAMAAAAAAACQInQDAAAAAAAAkCJ0AwAAAAAAAJAidAMA\n",
       "AAAAAACQInQDAAAAAAAAkCJ0AwAAAAAAAJAidAMAAAAAAACQInQDAAAAAAAAkCJ0AwAAAAAAAJAi\n",
       "dAMAAAAAAACQInQDAAAAAAAAkCJ0AwAAAAAAAJAidAMAAAAAAACQInQDAAAAAAAAkCJ0AwAAAAAA\n",
       "AJAidAMAAAAAAACQInQDAAAAAAAAkCJ0AwAAAAAAAJAidAMAAAAAAACQInQDAAAAAAAAkCJ0AwAA\n",
       "AAAAAJAidAMAAAAAAACQInQDAAAAAAAAkCJ0AwAAAAAAAJAidAMAAAAAAACQInQDAAAAAAAAkCJ0\n",
       "AwAAAAAAAJAidAMAAAAAAACQInQDAAAAAAAAkCJ0AwAAAAAAAJAidAMAAAAAAACQInQDAAAAAAAA\n",
       "kCJ0AwAAAAAAAJAidAMAAAAAAACQInQDAAAAAAAAkCJ0AwAAAAAAAJAidAMAAAAAAACQInQDAAAA\n",
       "AAAAkCJ0AwAAAAAAAJAidAMAAAAAAACQInQDAAAAAAAAkCJ0AwAAAAAAAJAidAMAAAAAAACQInQD\n",
       "AAAAAAAAkCJ0AwAAAAAAAJAidAMAAAAAAACQInQDAAAAAAAAkCJ0AwAAAAAAAJAidAMAAAAAAACQ\n",
       "InQDAAAAAAAAkCJ0AwAAAAAAAJAidAMAAAAAAACQInQDAAAAAAAAkCJ0AwAAAAAAAJAidAMAAAAA\n",
       "AACQInQDAAAAAAAAkCJ0AwAAAAAAAJAidAMAAAAAAACQInQDAAAAAAAAkCJ0AwAAAAAAAJAidAMA\n",
       "AAAAAACQInQDAAAAAAAAkCJ0AwAAAAAAAJAidAMAAAAAAACQInQDAAAAAAAAkCJ0AwAAAAAAAJAi\n",
       "dAMAAAAAAACQInQDAAAAAAAAkCJ0AwAAAAAAAJAidAMAAAAAAACQInQDAAAAAAAAkCJ0AwAAAAAA\n",
       "AJAidAMAAAAAAACQInQDAAAAAAAAkCJ0AwAAAAAAAJAidAMAAAAAAACQInQDAAAAAAAAkCJ0AwAA\n",
       "AAAAAJAidAMAAAAAAACQInQDAAAAAAAAkCJ0AwAAAAAAAJAidAMAAAAAAACQInQDAAAAAAAAkCJ0\n",
       "AwAAAAAAAJAidAMAAAAAAACQInQDAAAAAAAAkCJ0AwAAAAAAAJAidAMAAAAAAACQInQDAAAAAAAA\n",
       "kDIfd6/RG2BxztfRCwAAAAAAAIBfPLoBAAAAAAAASBG6AQAAAAAAAEgRugEAAAAAAABIEboBAAAA\n",
       "AAAASBG6AQAAAAAAAEgRugEAAAAAAABIEboBAAAAAAAASBG6AQAAAAAAAEgRugEAAAAAAABIEboB\n",
       "AAAAAAAASBG6AQAAAAAAAEgRugEAAAAAAABIEboBAAAAAAAASBG6AQAAAAAAAEgRugEAAAAAAABI\n",
       "EboBAAAAAAAASBG6AQAAAAAAAEgRugEAAAAAAABIEboBAAAAAAAASBG6AQAAAAAAAEgRugEAAAAA\n",
       "AABIEboBAAAAAAAASBG6AQAAAAAAAEgRugEAAAAAAABIEboBAAAAAAAASBG6AQAAAAAAAEgRugEA\n",
       "AAAAAABIEboBAAAAAAAASBG6AQAAAAAAAEgRugEAAAAAAABIEboBAAAAAAAASBG6AQAAAAAAAEgR\n",
       "ugEAAAAAAABIEboBAAAAAAAASBG6AQAAAAAAAEgRugEAAAAAAABIEboBAAAAAAAASBG6AQAAAAAA\n",
       "AEgRugEAAAAAAABIEboBAAAAAAAASBG6AQAAAAAAAEgRugEAAAAAAABIEboBAAAAAAAASBG6AQAA\n",
       "AAAAAEgRugEAAAAAAABIEboB4Nu+HRMBCANAEGxQQoUEFOMlLT1eUJA6uZldBd/fPAAAAAAAkCJ0\n",
       "AwAAAAAAAJAidAMAAAAAAACQInQDAAAAAAAAkCJ0AwAAAAAAAJAidAMAAAAAAACQInQDAAAAAAAA\n",
       "kCJ0AwAAAAAAAJAidAMAAAAAAACQInQDAAAAAAAAkCJ0AwAAAAAAAJAidAMAAAAAAACQInQDAAAA\n",
       "AAAAkCJ0AwAAAAAAAJAidAMAAAAAAACQInQDAAAAAAAAkCJ0AwAAAAAAAJAidAMAAAAAAACQInQD\n",
       "AAAAAAAAkCJ0AwAAAAAAAJAidAMAAAAAAACQInQDAAAAAAAAkCJ0AwAAAAAAAJAidAMAAAAAAACQ\n",
       "InQDAAAAAAAAkCJ0AwAAAAAAAJAidAMAAAAAAACQInQDAAAAAAAAkCJ0AwAAAAAAAJAidAMAAAAA\n",
       "AACQInQDAAAAAAAAkCJ0AwAAAAAAAJAidAMAAAAAAACQInQDAAAAAAAAkCJ0AwAAAAAAAJAidAMA\n",
       "AAAAAACQInQDAAAAAAAAkCJ0AwAAAAAAAJAidAMAAAAAAACQInQDAAAAAAAAkCJ0AwAAAAAAAJAi\n",
       "dAMAAAAAAACQInQDAAAAAAAAkCJ0AwAAAAAAAJAidAMAAAAAAACQInQDAAAAAAAAkCJ0AwAAAAAA\n",
       "AJAidAMAAAAAAACQInQDAAAAAAAAkCJ0AwAAAAAAAJAidAMAAAAAAACQInQDAAAAAAAAkCJ0AwAA\n",
       "AAAAAJAidAMAAAAAAACQInQDAAAAAAAAkCJ0AwAAAAAAAJAidAMAAAAAAACQInQDAAAAAAAAkCJ0\n",
       "AwAAAAAAAJAidAMAAAAAAACQInQDAAAAAAAAkCJ0AwAAAAAAAJAidAMAAAAAAACQInQDAAAAAAAA\n",
       "kCJ0AwAAAAAAAJAidAMAAAAAAACQInQDAAAAAAAAkCJ0AwAAAAAAAJAidAMAAAAAAACQInQDAAAA\n",
       "AAAAkCJ0AwAAAAAAAJAidAMAAAAAAACQInQDAAAAAAAAkCJ0AwAAAAAAAJAidAMAAAAAAACQInQD\n",
       "AAAAAAAAkCJ0AwAAAAAAAJAidAMAAAAAAACQInQDAAAAAAAAkCJ0AwAAAAAAAJAidAMAAAAAAACQ\n",
       "InQDAAAAAAAAkCJ0AwAAAAAAAJAidAMAAAAAAACQInQDAAAAAAAAkCJ0AwAAAAAAAJAidAMAAAAA\n",
       "AACQInQDAAAAAAAAkCJ0AwAAAAAAAJAidAMAAAAAAACQInQDAAAAAAAAkCJ0AwAAAAAAAJAidAMA\n",
       "AAAAAACQInQDAAAAAAAAkCJ0AwAAAAAAAJAidAMAAAAAAACQInQDAAAAAAAAkCJ0AwAAAAAAAJBy\n",
       "XOe3egPsZ6weAAAAAAAAAMx4dAMAAAAAAACQInQDAAAAAAAAkCJ0AwAAAAAAAJAidAMAAAAAAACQ\n",
       "InQDAAAAAAAAkCJ0AwAAAAAAAJAidAMAAAAAAACQInQDAAAAAAAAkCJ0AwAAAAAAAJAidAMAAAAA\n",
       "AACQInQDAAAAAAAAkCJ0AwAAAAAAAJAidAMAAAAAAACQInQDAAAAAAAAkCJ0AwAAAAAAAJAidAMA\n",
       "AAAAAACQInQDAAAAAAAAkCJ0AwAAAAAAAJAidAMAAAAAAACQInQDAAAAAAAAkCJ0AwAAAAAAAJAi\n",
       "dAMAAAAAAACQInQDAAAAAAAAkCJ0AwAAAAAAAJAidAMAAAAAAACQInQDAAAAAAAAkCJ0AwAAAAAA\n",
       "AJAidAMAAAAAAACQInQDAAAAAAAAkCJ0AwAAAAAAAJAidAMAAAAAAACQInQDAAAAAAAAkCJ0AwAA\n",
       "AAAAAJAidAMAAAAAAACQInQDAAAAAAAAkCJ0AwAAAAAAAJAidAMAAAAAAACQInQDAAAAAAAAkCJ0\n",
       "AwAAAAAAAJAidAMAAAAAAACQInQDAAAAAAAAkCJ0AwAAAAAAAJAidAMAAAAAAACQInQDAAAAAAAA\n",
       "kCJ0AwAAAAAAAJAidAMAAAAAAACQInQDAAAAAAAAkCJ0AwAAAAAAAJAidAMAAAAAAACQInQDAAAA\n",
       "AAAAkCJ0AwAAAAAAAJAidAMAAAAAAACQInQDAAAAAAAAkCJ0AwAAAAAAAJAidAMAAAAAAACQInQD\n",
       "AAAAAAAAkCJ0AwAAAAAAAJAidAMAAAAAAACQInQDAAAAAAAAkCJ0AwAAAAAAAJAidAMAAAAAAACQ\n",
       "InQDAAAAAAAAkCJ0AwAAAAAAAJAidAMAAAAAAACQInQDAAAAAAAAkCJ0AwAAAAAAAJAidAMAAAAA\n",
       "AACQInQDAAAAAAAAkCJ0AwAAAAAAAJAidAMAAAAAAACQInQDAAAAAAAAkCJ0AwAAAAAAAJAidAMA\n",
       "AAAAAACQInQDAAAAAAAAkCJ0AwAAAAAAAJAidAMAAAAAAACQInQDAAAAAAAAkCJ0AwAAAAAAAJAi\n",
       "dAMAAAAAAACQInQDAAAAAAAAkCJ0AwAAAAAAAJAidAMAAAAAAACQInQDAAAAAAAAkCJ0AwAAAAAA\n",
       "AJAidAMAAAAAAACQInQDAAAAAAAAkCJ0AwAAAAAAAJAidAMAAAAAAACQInQDAAAAAAAAkCJ0AwAA\n",
       "AAAAAJAidAMAAAAAAACQInQDAAAAAAAAkCJ0AwAAAAAAAJAidAMAAAAAAACQInQDAAAAAAAAkCJ0\n",
       "AwAAAAAAAJAidAMAAAAAAACQInQDAAAAAAAAkCJ0AwAAAAAAAJAidAMAAAAAAACQInQDAAAAAAAA\n",
       "kCJ0AwAAAAAAAJAidAMAAAAAAACQInQDAAAAAAAAkCJ0AwAAAAAAAJAidAMAAAAAAACQInQDAAAA\n",
       "AAAAkCJ0AwAAAAAAAJAidAMAAAAAAACQInQDAAAAAAAAkCJ0AwAAAAAAAJAidAMAAAAAAACQInQD\n",
       "AAAAAAAAkCJ0AwAAAAAAAJAidAMAAAAAAACQInQDAAAAAAAAkCJ0AwAAAAAAAJAidAMAAAAAAACQ\n",
       "InQDAAAAAAAAkCJ0AwAAAAAAAJAidAMAAAAAAACQInQDAAAAAAAAkCJ0AwAAAAAAAJAidAMAAAAA\n",
       "AACQInQDAAAAAAAAkCJ0AwAAAAAAAJAidAMAAAAAAACQInQDAAAAAAAAkCJ0AwAAAAAAAJAidAMA\n",
       "AAAAAACQInQDAAAAAAAAkCJ0AwAAAAAAAJAidAMAAAAAAACQInQDAAAAAAAAkCJ0AwAAAAAAAJAi\n",
       "dAMAAAAAAACQInQDAAAAAAAAkCJ0AwAAAAAAAJAidAMAAAAAAACQInQDAAAAAAAAkCJ0AwAAAAAA\n",
       "AJAidAMAAAAAAACQInQDAAAAAAAAkHI84169ATb0rh4AAAAAAAAATHh0AwAAAAAAAJAidAMAAAAA\n",
       "AACQInQDAAAAAAAAkCJ0AwAAAAAAAJAidAMAAAAAAACQInQDAAAAAAAAkCJ0AwAAAAAAAJAidAMA\n",
       "AAAAAACQInQDAAAAAAAAkCJ0AwAAAAAAAJAidAMAAAAAAACQInQDAAAAAAAAkCJ0AwAAAAAAAJAi\n",
       "dAMAAAAAAACQInQDAAAAAAAAkCJ0AwAAAAAAAJAidAMAAAAAAACQInQDAAAAAAAAkCJ0AwAAAAAA\n",
       "AJAidAMAAAAAAACQInQDAAAAAAAAkCJ0AwAAAAAAAJAidAMAAAAAAACQInQDAAAAAAAAkCJ0AwAA\n",
       "AAAAAJAidAMAAAAAAACQInQDAAAAAAAAkCJ0AwAAAAAAAJAidAMAAAAAAACQInQDAAAAAAAAkCJ0\n",
       "AwAAAAAAAJAidAMAAAAAAACQInQDAAAAAAAAkCJ0AwAAAAAAAJAidAMAAAAAAACQInQDAAAAAAAA\n",
       "kCJ0AwAAAAAAAJAidAMAAAAAAACQInQDAAAAAAAAkCJ0AwAAAAAAAJAidAMAAAAAAACQInQDAAAA\n",
       "AAAAkCJ0AwAAAAAAAJAidAMAAAAAAACQInQDAAAAAAAAkCJ0AwAAAAAAAJAidAMAAAAAAACQInQD\n",
       "AAAAAAAAkCJ0AwAAAAAAAJAidAMAAAAAAACQInQDAAAAAAAAkCJ0AwAAAAAAAJAidAMAAAAAAACQ\n",
       "InQDAAAAAAAAkCJ0AwAAAAAAAJAidAMAAAAAAACQInQDAAAAAAAAkCJ0AwAAAAAAAJAidAMAAAAA\n",
       "AACQInQDAAAAAAAAkCJ0AwAAAAAAAJAidAMAAAAAAACQInQDAAAAAAAAkCJ0AwAAAAAAAJAidAMA\n",
       "AAAAAACQInQDAAAAAAAAkCJ0AwAAAAAAAJAidAMAAAAAAACQInQDAAAAAAAAkCJ0AwAAAAAAAJAi\n",
       "dAMAAAAAAACQInQDAAAAAAAAkCJ0AwAAAAAAAJAidAMAAAAAAACQInQDAAAAAAAAkCJ0AwAAAAAA\n",
       "AJAidAMAAAAAAACQInQDAAAAAAAAkCJ0AwAAAAAAAJAidAMAAAAAAACQInQDAAAAAAAAkCJ0AwAA\n",
       "AAAAAJAidAMAAAAAAACQInQDAAAAAAAAkCJ0AwAAAAAAAJAidAMAAAAAAACQInQDAAAAAAAAkCJ0\n",
       "AwAAAAAAAJAidAMAAAAAAACQInQDAAAAAAAAkCJ0AwAAAAAAAJAidAMAAAAAAACQInQDAAAAAAAA\n",
       "kCJ0AwAAAAAAAJAidAMAAAAAAACQInQDAAAAAAAAkCJ0AwAAAAAAAJAidAMAAAAAAACQInQDAAAA\n",
       "AAAAkCJ0AwAAAAAAAJAidAMAAAAAAACQInQDAAAAAAAAkCJ0AwAAAAAAAJAidAMAAAAAAACQInQD\n",
       "AAAAAAAAkCJ0AwAAAAAAAJAidAMAAAAAAACQInQDAAAAAAAAkCJ0AwAAAAAAAJAidAMAAAAAAACQ\n",
       "InQDAAAAAAAAkCJ0AwAAAAAAAJAidAMAAAAAAACQInQDAAAAAAAAkCJ0AwAAAAAAAJAidAMAAAAA\n",
       "AACQInQDAAAAAAAAkCJ0AwAAAAAAAJAidAMAAAAAAACQInQDAAAAAAAAkCJ0AwAAAAAAAJAidAMA\n",
       "AAAAAACQInQDAAAAAAAAkCJ0AwAAAAAAAJAidAMAAAAAAACQInQDAAAAAAAAkCJ0AwAAAAAAAJAi\n",
       "dAMAAAAAAACQInQDAAAAAAAAkCJ0AwAAAAAAAJAidAMAAAAAAACQInQDAAAAAAAAkCJ0AwAAAAAA\n",
       "AJAidAMAAAAAAACQInQDAAAAAAAAkCJ0AwAAAAAAAJAidAMAAAAAAACQInQDAAAAAAAAkCJ0AwAA\n",
       "AAAAAJAidAMAAAAAAACQInQDAAAAAAAAkCJ0AwAAAAAAAJDyA4fhLkAgvAW/AAAAAElFTkSuQmCC\n",
       "\" transform=\"translate(135, 47)\"/>\n",
       "</g>\n",
       "<defs>\n",
       "  <clipPath id=\"clip493\">\n",
       "    <rect x=\"2160\" y=\"47\" width=\"73\" height=\"1440\"/>\n",
       "  </clipPath>\n",
       "</defs>\n",
       "<g clip-path=\"url(#clip493)\">\n",
       "<image width=\"72\" height=\"1439\" xlink:href=\"data:image/png;base64,\n",
       "iVBORw0KGgoAAAANSUhEUgAAAEgAAAWfCAYAAAAI7rB3AAAMWUlEQVR4nO3dwY0rRxAFwaZQ/lsh\n",
       "L6XfLQtUeSQPERYsEg8c9MyQ+/n3/v0O/+uvb/8Bv06gIFAQKAgU5r5/v/03/DQLCgIFgYJAQaAw\n",
       "7/359t/w0ywoCBQECgIFR41gQUGgIFAQKAgU5rmKrSwoCBQECgIFgcK86yq2saAgUBAoCBQcNYIF\n",
       "BYGCQEGgIFBwFQsWFAQKAgWBgvtBwYKCQEGgIFAQKMxx1FhZUBAoCBQECgIFN8yCBQWBgkBBoDDH\n",
       "DbOVBQWBgkBBoCBQmHP/+fbf8NMsKAgUBAoCBYGCxz7BgoJAQaAgUHDDLFhQECgIFAQKAgVXsWBB\n",
       "QaAgUBAouB8ULCgIFAQKAgWBwnwcNVYWFAQKAgWBgkBhzvWfWTYWFAQKAgWBgqNGsKAgUBAoCBQE\n",
       "Co4awYKCQEGgIFAQKHjDLFhQECgIFAQK83HUWFlQECgIFAQKAgXvSQcLCgIFgYJAwVEjWFAQKAgU\n",
       "BAoCBc/mgwUFgYJAQaAgUHAWCxYUBAoCBYGCo0awoCBQECgIFAQKjhrBgoJAQaAgUBAozLn323/D\n",
       "T7OgIFAQKAgUHDWCBQWBgkBBoCBQ8NgnWFAQKAgUBAo+pIMFBYGCQEGgIFCYj6caKwsKAgWBgkBB\n",
       "oOAsFiwoCBQECgIFL1AFCwoCBYGCQEGg4IZZsKAgUBAoCBTcDwoWFAQKAgWBgkDBDbNgQUGgIFAQ\n",
       "KAgUXMWCBQWBgkBBoOB788GCgkBBoCBQECg4agQLCgIFgYJAQaDgKhYsKAgUBAoCBR/SwYKCQEGg\n",
       "IFAQKLiKBQsKAgWBgkBhzvMhvbGgIFAQKAgUBAqOGsGCgkBBoCBQECi4igULCgIFgYJAwYd0sKAg\n",
       "UBAoCBQECnPu+/bf8NMsKAgUBAoCBYGCs1iwoCBQECgIFBw1ggUFgYJAQaAgUHDUCBYUBAoCBYGC\n",
       "o0awoCBQECgIFAQKc5w0VhYUBAoCBYGCQGHOcxbbWFAQKAgUBAqOGsGCgkBBoCBQECi4igULCgIF\n",
       "gYJAQaAwfohzZ0FBoCBQECg4agQLCgIFgYJAQaDgKhYsKAgUBAoChTn38+2/4adZUBAoCBQECgKF\n",
       "ec9VbGNBQaAgUBAoCBTcMAsWFAQKAgWBghtmwYKCQEGgIFAQKMy7Gm3UCQIFgYJAwVEjWFAQKAgU\n",
       "BAoChTmeza8sKAgUBAoCBYHCPGexlQUFgYJAQaAwx1ONlTpBoCBQECgIFBw1ggUFgYJAQaAgUPDY\n",
       "J1hQECgIFAQKXgMO6gSBgkBBoCBQ8J50sKAgUBAoCBQ81QgWFAQKAgWBgkBh3tNoo04QKAgUBAoC\n",
       "BTfMggUFgYJAQaDghlmwoCBQECgIFAQKc9wwW6kTBAoCBYGCQMFZLFhQECgIFAQKPqSDBQWBgkBB\n",
       "oCBQ8L35YEFBoCBQECj43nxQJwgUBAoCBYHCPEeNlQUFgYJAQaAgUPDYJ1hQECgIFAQK/jNLUCcI\n",
       "FAQKAgWBghtmwYKCQEGgIFAQKLhhFiwoCBQECgIFR41gQUGgIFAQKAgUvCcd1AkCBYGCQMFRI1hQ\n",
       "ECgIFAQKAgVPNYIFBYGCQEGgIFBwFgsWFAQKAgWBgn+fFSwoCBQECgIFgYJ/ZRzUCQIFgYJAQaDg\n",
       "hlmwoCBQECgIFDybDxYUBAoCBYGCQMFRI1hQECgIFAQKc31IrywoCBQECgIFgYLvzQd1gkBBoCBQ\n",
       "ECi4YRYsKAgUBAoCBR/SwYKCQEGgIFAQKHjDLFhQECgIFAQKjhrBgoJAQaAgUBAouIoFCwoCBYGC\n",
       "QEGg4NdfgjpBoCBQECjM9VRjZUFBoCBQECgIFNwwCxYUBAoCBYGCQMFVLFhQECgIFAQKPqSDBQWB\n",
       "gkBBoCBQ8BtmwYKCQEGgIFBw1AgWFAQKAgWBgkDBVSxYUBAoCBQECgIFX2YJ6gSBgkBBoODLLMGC\n",
       "gkBBoCBQECi4YRYsKAgUBAoCBYGCq1iwoCBQECgIFLwGHCwoCBQECgIFgYKjRrCgIFAQKAgU5h0f\n",
       "0hsLCgIFgYJAQaDghlmwoCBQECgIFAQKbpgFCwoCBYGCQMFRI1hQECgIFAQKAgVHjWBBQaAgUBAo\n",
       "CBScxYIFBYGCQEGg4KgRLCgIFAQKAgWBgqtYsKAgUBAoCBTm+jLLyoKCQEGgIFAQKDhqBAsKAgWB\n",
       "gkBBoODZfLCgIFAQKAgU5r1v/wm/zYKCQEGgIFAQKDhqBAsKAgWBgkDBD00GCwoCBYGCQEGg4KgR\n",
       "LCgIFAQKAgWBgjfMggUFgYJAQaDgyyzBgoJAQaAgUBAoeMMsWFAQKAgUBAoCBY99ggUFgYJAQaDg\n",
       "qUawoCBQECgIFAQKHvsECwoCBYGCQMH9oGBBQaAgUBAoCBQ8mw8WFAQKAgWBgkDBDbNgQUGgIFAQ\n",
       "KHg2HywoCBQECgIFgcLcb/8FP86CgkBBoCBQECg4iwULCgIFgYJAwRtmwYKCQEGgIFAQKLhhFiwo\n",
       "CBQECgIF94OCBQWBgkBBoCBQcNQIFhQECgIFgYJAwVksWFAQKAgUBAqezQcLCgIFgYJAQaAwfvxl\n",
       "Z0FBoCBQECgIFJzFggUFgYJAQaDg2XywoCBQECgIFAQKns0HCwoCBYGCQMFRI1hQECgIFAQKAgVH\n",
       "jWBBQaAgUBAoCBTmesVsZUFBoCBQECi4YRYsKAgUBAoCBYGCG2bBgoJAQaAgUHDUCBYUBAoCBYGC\n",
       "QGGepxorCwoCBYGCQEGgMPe4YbaxoCBQECgIFLxAFSwoCBQECgIFgYIfmgwWFAQKAgWBgkDBD00G\n",
       "CwoCBYGCQMGz+WBBQaAgUBAoCBS8Jx0sKAgUBAoCBd84DBYUBAoCBYGCQMFRI1hQECgIFAQKAgXv\n",
       "SQcLCgIFgYJAwWvAwYKCQEGgIFAQKDhqBAsKAgWBgkBBoOA96WBBQaAgUBAo+ImuYEFBoCBQECgI\n",
       "FNwwCxYUBAoCBYGCZ/PBgoJAQaAgUBAoOGoECwoCBYGCQEGg4CwWLCgIFAQKAgVHjWBBQaAgUBAo\n",
       "CBRcxYIFBYGCQEGgIFBwwyxYUBAoCBQECo4awYKCQEGgIFAQKDhqBAsKAgWBgkDBUSNYUBAoCBQE\n",
       "CgIFP9EVLCgIFAQKAgWBgv8vFiwoCBQECgIFN8yCBQWBgkBBoCBQmHdcxjYWFAQKAgWBgkDBWSxY\n",
       "UBAoCBQECp7NBwsKAgWBgkBBoODZfLCgIFAQKAgU3A8KFhQECgIFgYJAwbP5YEFBoCBQECgIFJzF\n",
       "ggUFgYJAQaDgJ7qCBQWBgkBBoCBQmOsVs5UFBYGCQEGg4AWqYEFBoCBQECgIFOY5aqwsKAgUBAoC\n",
       "BYGCs1iwoCBQECgIFDzVCBYUBAoCBYGCQMEbZsGCgkBBoCBQECjM9ZXMlQUFgYJAQaDghlmwoCBQ\n",
       "ECgIFAQKfv0lWFAQKAgUBApeoAoWFAQKAgWBgkDBU41gQUGgIFAQKAgU3DALFhQECgIFgcLc45bZ\n",
       "xoKCQEGgIFAQKLhhFiwoCBQECgIFgYKrWLCgIFAQKAgUPNUIFhQECgIFgYJAwWOfYEFBoCBQECjM\n",
       "/ThqbCwoCBQECgIFgYKjRrCgIFAQKAgUBArzXMVWFhQECgIFgYKjRrCgIFAQKAgUBApzP65iGwsK\n",
       "AgWBgkBBoOAsFiwoCBQECgIFTzWCBQWBgkBBoCBQcNQIFhQECgIFgYIP6WBBQaAgUBAoCBQ8mw8W\n",
       "FAQKAgWBgkBh3vnz7b/hp1lQECgIFAQKbpgFCwoCBYGCQEGg4A2zYEFBoCBQECjMfe4HbSwoCBQE\n",
       "CgIFgYKjRrCgIFAQKAgUBApzPZtfWVAQKAgUBAqOGsGCgkBBoCBQECg4agQLCgIFgYJAQaAw7zmL\n",
       "bSwoCBQECgIFN8yCBQWBgkBBoCBQ8J50sKAgUBAoCBQcNYIFBYGCQEGgIFCY56ixsqAgUBAoCBQE\n",
       "Cs5iwYKCQEGgIFCY6wWqlQUFgYJAQaAgUPCb9sGCgkBBoCBQECj4MkuwoCBQECgIFDzVCBYUBAoC\n",
       "BYGCQMFRI1hQECgIFAQKPqSDBQWBgkBBoCBQ8Gw+WFAQKAgUBAoCBWexYEFBoCBQECjM8Wx+ZUFB\n",
       "oCBQECgIFBw1ggUFgYJAQaAgUPCedLCgIFAQKAgU5jhqrCwoCBQECgIFgYI3zIIFBYGCQEGg4Nl8\n",
       "sKAgUBAoCBQECm6YBQsKAgWBgkBBoDDvvG//DT/NgoJAQaAgUHDDLFhQECgIFAQKAoU5jhorCwoC\n",
       "BYGCQOE/LrLuTX/wFc8AAAAASUVORK5CYII=\n",
       "\" transform=\"translate(2161, 47)\"/>\n",
       "</g>\n",
       "<path clip-path=\"url(#clip490)\" d=\"M 0 0 M2280.7 1468.62 Q2277.09 1468.62 2275.26 1472.18 Q2273.45 1475.72 2273.45 1482.85 Q2273.45 1489.96 2275.26 1493.53 Q2277.09 1497.07 2280.7 1497.07 Q2284.33 1497.07 2286.14 1493.53 Q2287.97 1489.96 2287.97 1482.85 Q2287.97 1475.72 2286.14 1472.18 Q2284.33 1468.62 2280.7 1468.62 M2280.7 1464.91 Q2286.51 1464.91 2289.57 1469.52 Q2292.64 1474.1 2292.64 1482.85 Q2292.64 1491.58 2289.57 1496.19 Q2286.51 1500.77 2280.7 1500.77 Q2274.89 1500.77 2271.81 1496.19 Q2268.76 1491.58 2268.76 1482.85 Q2268.76 1474.1 2271.81 1469.52 Q2274.89 1464.91 2280.7 1464.91 Z\" fill=\"#000000\" fill-rule=\"evenodd\" fill-opacity=\"1\" /><path clip-path=\"url(#clip490)\" d=\"M 0 0 M2280.7 1288.72 Q2277.09 1288.72 2275.26 1292.28 Q2273.45 1295.82 2273.45 1302.95 Q2273.45 1310.06 2275.26 1313.62 Q2277.09 1317.17 2280.7 1317.17 Q2284.33 1317.17 2286.14 1313.62 Q2287.97 1310.06 2287.97 1302.95 Q2287.97 1295.82 2286.14 1292.28 Q2284.33 1288.72 2280.7 1288.72 M2280.7 1285.01 Q2286.51 1285.01 2289.57 1289.62 Q2292.64 1294.2 2292.64 1302.95 Q2292.64 1311.68 2289.57 1316.29 Q2286.51 1320.87 2280.7 1320.87 Q2274.89 1320.87 2271.81 1316.29 Q2268.76 1311.68 2268.76 1302.95 Q2268.76 1294.2 2271.81 1289.62 Q2274.89 1285.01 2280.7 1285.01 Z\" fill=\"#000000\" fill-rule=\"evenodd\" fill-opacity=\"1\" /><path clip-path=\"url(#clip490)\" d=\"M 0 0 M2297.71 1314.32 L2302.6 1314.32 L2302.6 1320.2 L2297.71 1320.2 L2297.71 1314.32 Z\" fill=\"#000000\" fill-rule=\"evenodd\" fill-opacity=\"1\" /><path clip-path=\"url(#clip490)\" d=\"M 0 0 M2317.67 1288.72 Q2314.06 1288.72 2312.23 1292.28 Q2310.42 1295.82 2310.42 1302.95 Q2310.42 1310.06 2312.23 1313.62 Q2314.06 1317.17 2317.67 1317.17 Q2321.3 1317.17 2323.11 1313.62 Q2324.94 1310.06 2324.94 1302.95 Q2324.94 1295.82 2323.11 1292.28 Q2321.3 1288.72 2317.67 1288.72 M2317.67 1285.01 Q2323.48 1285.01 2326.53 1289.62 Q2329.61 1294.2 2329.61 1302.95 Q2329.61 1311.68 2326.53 1316.29 Q2323.48 1320.87 2317.67 1320.87 Q2311.86 1320.87 2308.78 1316.29 Q2305.72 1311.68 2305.72 1302.95 Q2305.72 1294.2 2308.78 1289.62 Q2311.86 1285.01 2317.67 1285.01 Z\" fill=\"#000000\" fill-rule=\"evenodd\" fill-opacity=\"1\" /><path clip-path=\"url(#clip490)\" d=\"M 0 0 M2334.73 1285.64 L2353.08 1285.64 L2353.08 1289.57 L2339.01 1289.57 L2339.01 1298.05 Q2340.03 1297.7 2341.05 1297.54 Q2342.07 1297.35 2343.08 1297.35 Q2348.87 1297.35 2352.25 1300.52 Q2355.63 1303.69 2355.63 1309.11 Q2355.63 1314.69 2352.16 1317.79 Q2348.69 1320.87 2342.37 1320.87 Q2340.19 1320.87 2337.92 1320.5 Q2335.68 1320.13 2333.27 1319.39 L2333.27 1314.69 Q2335.35 1315.82 2337.57 1316.38 Q2339.8 1316.93 2342.27 1316.93 Q2346.28 1316.93 2348.62 1314.83 Q2350.95 1312.72 2350.95 1309.11 Q2350.95 1305.5 2348.62 1303.39 Q2346.28 1301.29 2342.27 1301.29 Q2340.4 1301.29 2338.52 1301.7 Q2336.67 1302.12 2334.73 1303 L2334.73 1285.64 Z\" fill=\"#000000\" fill-rule=\"evenodd\" fill-opacity=\"1\" /><path clip-path=\"url(#clip490)\" d=\"M 0 0 M2280.7 1108.82 Q2277.09 1108.82 2275.26 1112.38 Q2273.45 1115.92 2273.45 1123.05 Q2273.45 1130.16 2275.26 1133.72 Q2277.09 1137.27 2280.7 1137.27 Q2284.33 1137.27 2286.14 1133.72 Q2287.97 1130.16 2287.97 1123.05 Q2287.97 1115.92 2286.14 1112.38 Q2284.33 1108.82 2280.7 1108.82 M2280.7 1105.11 Q2286.51 1105.11 2289.57 1109.72 Q2292.64 1114.3 2292.64 1123.05 Q2292.64 1131.78 2289.57 1136.39 Q2286.51 1140.97 2280.7 1140.97 Q2274.89 1140.97 2271.81 1136.39 Q2268.76 1131.78 2268.76 1123.05 Q2268.76 1114.3 2271.81 1109.72 Q2274.89 1105.11 2280.7 1105.11 Z\" fill=\"#000000\" fill-rule=\"evenodd\" fill-opacity=\"1\" /><path clip-path=\"url(#clip490)\" d=\"M 0 0 M2297.71 1134.42 L2302.6 1134.42 L2302.6 1140.3 L2297.71 1140.3 L2297.71 1134.42 Z\" fill=\"#000000\" fill-rule=\"evenodd\" fill-opacity=\"1\" /><path clip-path=\"url(#clip490)\" d=\"M 0 0 M2308.48 1136.36 L2316.12 1136.36 L2316.12 1110 L2307.81 1111.66 L2307.81 1107.4 L2316.07 1105.74 L2320.75 1105.74 L2320.75 1136.36 L2328.39 1136.36 L2328.39 1140.3 L2308.48 1140.3 L2308.48 1136.36 Z\" fill=\"#000000\" fill-rule=\"evenodd\" fill-opacity=\"1\" /><path clip-path=\"url(#clip490)\" d=\"M 0 0 M2343.45 1108.82 Q2339.84 1108.82 2338.01 1112.38 Q2336.21 1115.92 2336.21 1123.05 Q2336.21 1130.16 2338.01 1133.72 Q2339.84 1137.27 2343.45 1137.27 Q2347.09 1137.27 2348.89 1133.72 Q2350.72 1130.16 2350.72 1123.05 Q2350.72 1115.92 2348.89 1112.38 Q2347.09 1108.82 2343.45 1108.82 M2343.45 1105.11 Q2349.26 1105.11 2352.32 1109.72 Q2355.4 1114.3 2355.4 1123.05 Q2355.4 1131.78 2352.32 1136.39 Q2349.26 1140.97 2343.45 1140.97 Q2337.64 1140.97 2334.57 1136.39 Q2331.51 1131.78 2331.51 1123.05 Q2331.51 1114.3 2334.57 1109.72 Q2337.64 1105.11 2343.45 1105.11 Z\" fill=\"#000000\" fill-rule=\"evenodd\" fill-opacity=\"1\" /><path clip-path=\"url(#clip490)\" d=\"M 0 0 M2280.7 928.916 Q2277.09 928.916 2275.26 932.481 Q2273.45 936.023 2273.45 943.152 Q2273.45 950.259 2275.26 953.824 Q2277.09 957.365 2280.7 957.365 Q2284.33 957.365 2286.14 953.824 Q2287.97 950.259 2287.97 943.152 Q2287.97 936.023 2286.14 932.481 Q2284.33 928.916 2280.7 928.916 M2280.7 925.213 Q2286.51 925.213 2289.57 929.819 Q2292.64 934.402 2292.64 943.152 Q2292.64 951.879 2289.57 956.486 Q2286.51 961.069 2280.7 961.069 Q2274.89 961.069 2271.81 956.486 Q2268.76 951.879 2268.76 943.152 Q2268.76 934.402 2271.81 929.819 Q2274.89 925.213 2280.7 925.213 Z\" fill=\"#000000\" fill-rule=\"evenodd\" fill-opacity=\"1\" /><path clip-path=\"url(#clip490)\" d=\"M 0 0 M2297.71 954.518 L2302.6 954.518 L2302.6 960.398 L2297.71 960.398 L2297.71 954.518 Z\" fill=\"#000000\" fill-rule=\"evenodd\" fill-opacity=\"1\" /><path clip-path=\"url(#clip490)\" d=\"M 0 0 M2308.48 956.462 L2316.12 956.462 L2316.12 930.097 L2307.81 931.764 L2307.81 927.504 L2316.07 925.838 L2320.75 925.838 L2320.75 956.462 L2328.39 956.462 L2328.39 960.398 L2308.48 960.398 L2308.48 956.462 Z\" fill=\"#000000\" fill-rule=\"evenodd\" fill-opacity=\"1\" /><path clip-path=\"url(#clip490)\" d=\"M 0 0 M2333.5 925.838 L2351.86 925.838 L2351.86 929.773 L2337.78 929.773 L2337.78 938.245 Q2338.8 937.898 2339.82 937.736 Q2340.84 937.551 2341.86 937.551 Q2347.64 937.551 2351.02 940.722 Q2354.4 943.893 2354.4 949.31 Q2354.4 954.888 2350.93 957.99 Q2347.46 961.069 2341.14 961.069 Q2338.96 961.069 2336.7 960.699 Q2334.45 960.328 2332.04 959.587 L2332.04 954.888 Q2334.13 956.023 2336.35 956.578 Q2338.57 957.134 2341.05 957.134 Q2345.05 957.134 2347.39 955.027 Q2349.73 952.921 2349.73 949.31 Q2349.73 945.699 2347.39 943.592 Q2345.05 941.486 2341.05 941.486 Q2339.17 941.486 2337.3 941.902 Q2335.45 942.319 2333.5 943.199 L2333.5 925.838 Z\" fill=\"#000000\" fill-rule=\"evenodd\" fill-opacity=\"1\" /><path clip-path=\"url(#clip490)\" d=\"M 0 0 M2280.7 749.016 Q2277.09 749.016 2275.26 752.581 Q2273.45 756.122 2273.45 763.252 Q2273.45 770.358 2275.26 773.923 Q2277.09 777.465 2280.7 777.465 Q2284.33 777.465 2286.14 773.923 Q2287.97 770.358 2287.97 763.252 Q2287.97 756.122 2286.14 752.581 Q2284.33 749.016 2280.7 749.016 M2280.7 745.312 Q2286.51 745.312 2289.57 749.919 Q2292.64 754.502 2292.64 763.252 Q2292.64 771.979 2289.57 776.585 Q2286.51 781.168 2280.7 781.168 Q2274.89 781.168 2271.81 776.585 Q2268.76 771.979 2268.76 763.252 Q2268.76 754.502 2271.81 749.919 Q2274.89 745.312 2280.7 745.312 Z\" fill=\"#000000\" fill-rule=\"evenodd\" fill-opacity=\"1\" /><path clip-path=\"url(#clip490)\" d=\"M 0 0 M2297.71 774.618 L2302.6 774.618 L2302.6 780.497 L2297.71 780.497 L2297.71 774.618 Z\" fill=\"#000000\" fill-rule=\"evenodd\" fill-opacity=\"1\" /><path clip-path=\"url(#clip490)\" d=\"M 0 0 M2311.7 776.562 L2328.01 776.562 L2328.01 780.497 L2306.07 780.497 L2306.07 776.562 Q2308.73 773.807 2313.32 769.178 Q2317.92 764.525 2319.1 763.182 Q2321.35 760.659 2322.23 758.923 Q2323.13 757.164 2323.13 755.474 Q2323.13 752.72 2321.19 750.983 Q2319.26 749.247 2316.16 749.247 Q2313.96 749.247 2311.51 750.011 Q2309.08 750.775 2306.3 752.326 L2306.3 747.604 Q2309.13 746.47 2311.58 745.891 Q2314.03 745.312 2316.07 745.312 Q2321.44 745.312 2324.64 747.997 Q2327.83 750.683 2327.83 755.173 Q2327.83 757.303 2327.02 759.224 Q2326.23 761.122 2324.13 763.715 Q2323.55 764.386 2320.45 767.604 Q2317.34 770.798 2311.7 776.562 Z\" fill=\"#000000\" fill-rule=\"evenodd\" fill-opacity=\"1\" /><path clip-path=\"url(#clip490)\" d=\"M 0 0 M2343.08 749.016 Q2339.47 749.016 2337.64 752.581 Q2335.84 756.122 2335.84 763.252 Q2335.84 770.358 2337.64 773.923 Q2339.47 777.465 2343.08 777.465 Q2346.72 777.465 2348.52 773.923 Q2350.35 770.358 2350.35 763.252 Q2350.35 756.122 2348.52 752.581 Q2346.72 749.016 2343.08 749.016 M2343.08 745.312 Q2348.89 745.312 2351.95 749.919 Q2355.03 754.502 2355.03 763.252 Q2355.03 771.979 2351.95 776.585 Q2348.89 781.168 2343.08 781.168 Q2337.27 781.168 2334.2 776.585 Q2331.14 771.979 2331.14 763.252 Q2331.14 754.502 2334.2 749.919 Q2337.27 745.312 2343.08 745.312 Z\" fill=\"#000000\" fill-rule=\"evenodd\" fill-opacity=\"1\" /><path clip-path=\"url(#clip490)\" d=\"M 0 0 M2280.7 569.115 Q2277.09 569.115 2275.26 572.68 Q2273.45 576.222 2273.45 583.351 Q2273.45 590.458 2275.26 594.023 Q2277.09 597.564 2280.7 597.564 Q2284.33 597.564 2286.14 594.023 Q2287.97 590.458 2287.97 583.351 Q2287.97 576.222 2286.14 572.68 Q2284.33 569.115 2280.7 569.115 M2280.7 565.412 Q2286.51 565.412 2289.57 570.018 Q2292.64 574.601 2292.64 583.351 Q2292.64 592.078 2289.57 596.685 Q2286.51 601.268 2280.7 601.268 Q2274.89 601.268 2271.81 596.685 Q2268.76 592.078 2268.76 583.351 Q2268.76 574.601 2271.81 570.018 Q2274.89 565.412 2280.7 565.412 Z\" fill=\"#000000\" fill-rule=\"evenodd\" fill-opacity=\"1\" /><path clip-path=\"url(#clip490)\" d=\"M 0 0 M2297.71 594.717 L2302.6 594.717 L2302.6 600.597 L2297.71 600.597 L2297.71 594.717 Z\" fill=\"#000000\" fill-rule=\"evenodd\" fill-opacity=\"1\" /><path clip-path=\"url(#clip490)\" d=\"M 0 0 M2311.7 596.662 L2328.01 596.662 L2328.01 600.597 L2306.07 600.597 L2306.07 596.662 Q2308.73 593.907 2313.32 589.277 Q2317.92 584.625 2319.1 583.282 Q2321.35 580.759 2322.23 579.023 Q2323.13 577.264 2323.13 575.574 Q2323.13 572.819 2321.19 571.083 Q2319.26 569.347 2316.16 569.347 Q2313.96 569.347 2311.51 570.111 Q2309.08 570.875 2306.3 572.426 L2306.3 567.703 Q2309.13 566.569 2311.58 565.99 Q2314.03 565.412 2316.07 565.412 Q2321.44 565.412 2324.64 568.097 Q2327.83 570.782 2327.83 575.273 Q2327.83 577.402 2327.02 579.324 Q2326.23 581.222 2324.13 583.814 Q2323.55 584.486 2320.45 587.703 Q2317.34 590.898 2311.7 596.662 Z\" fill=\"#000000\" fill-rule=\"evenodd\" fill-opacity=\"1\" /><path clip-path=\"url(#clip490)\" d=\"M 0 0 M2333.13 566.037 L2351.49 566.037 L2351.49 569.972 L2337.41 569.972 L2337.41 578.444 Q2338.43 578.097 2339.45 577.935 Q2340.47 577.75 2341.49 577.75 Q2347.27 577.75 2350.65 580.921 Q2354.03 584.092 2354.03 589.509 Q2354.03 595.087 2350.56 598.189 Q2347.09 601.268 2340.77 601.268 Q2338.59 601.268 2336.32 600.898 Q2334.08 600.527 2331.67 599.787 L2331.67 595.087 Q2333.76 596.222 2335.98 596.777 Q2338.2 597.333 2340.68 597.333 Q2344.68 597.333 2347.02 595.226 Q2349.36 593.12 2349.36 589.509 Q2349.36 585.898 2347.02 583.791 Q2344.68 581.685 2340.68 581.685 Q2338.8 581.685 2336.93 582.101 Q2335.07 582.518 2333.13 583.398 L2333.13 566.037 Z\" fill=\"#000000\" fill-rule=\"evenodd\" fill-opacity=\"1\" /><path clip-path=\"url(#clip490)\" d=\"M 0 0 M2280.7 389.215 Q2277.09 389.215 2275.26 392.78 Q2273.45 396.321 2273.45 403.451 Q2273.45 410.557 2275.26 414.122 Q2277.09 417.664 2280.7 417.664 Q2284.33 417.664 2286.14 414.122 Q2287.97 410.557 2287.97 403.451 Q2287.97 396.321 2286.14 392.78 Q2284.33 389.215 2280.7 389.215 M2280.7 385.511 Q2286.51 385.511 2289.57 390.118 Q2292.64 394.701 2292.64 403.451 Q2292.64 412.178 2289.57 416.784 Q2286.51 421.368 2280.7 421.368 Q2274.89 421.368 2271.81 416.784 Q2268.76 412.178 2268.76 403.451 Q2268.76 394.701 2271.81 390.118 Q2274.89 385.511 2280.7 385.511 Z\" fill=\"#000000\" fill-rule=\"evenodd\" fill-opacity=\"1\" /><path clip-path=\"url(#clip490)\" d=\"M 0 0 M2297.71 414.817 L2302.6 414.817 L2302.6 420.696 L2297.71 420.696 L2297.71 414.817 Z\" fill=\"#000000\" fill-rule=\"evenodd\" fill-opacity=\"1\" /><path clip-path=\"url(#clip490)\" d=\"M 0 0 M2321.83 402.062 Q2325.19 402.78 2327.07 405.048 Q2328.96 407.317 2328.96 410.65 Q2328.96 415.766 2325.45 418.567 Q2321.93 421.368 2315.45 421.368 Q2313.27 421.368 2310.95 420.928 Q2308.66 420.511 2306.21 419.655 L2306.21 415.141 Q2308.15 416.275 2310.47 416.854 Q2312.78 417.432 2315.31 417.432 Q2319.7 417.432 2322 415.696 Q2324.31 413.96 2324.31 410.65 Q2324.31 407.594 2322.16 405.882 Q2320.03 404.145 2316.21 404.145 L2312.18 404.145 L2312.18 400.303 L2316.39 400.303 Q2319.84 400.303 2321.67 398.937 Q2323.5 397.548 2323.5 394.956 Q2323.5 392.294 2321.6 390.882 Q2319.73 389.446 2316.21 389.446 Q2314.29 389.446 2312.09 389.863 Q2309.89 390.28 2307.25 391.159 L2307.25 386.993 Q2309.91 386.252 2312.23 385.882 Q2314.57 385.511 2316.63 385.511 Q2321.95 385.511 2325.05 387.942 Q2328.15 390.349 2328.15 394.47 Q2328.15 397.34 2326.51 399.331 Q2324.87 401.298 2321.83 402.062 Z\" fill=\"#000000\" fill-rule=\"evenodd\" fill-opacity=\"1\" /><path clip-path=\"url(#clip490)\" d=\"M 0 0 M2344.03 389.215 Q2340.42 389.215 2338.59 392.78 Q2336.79 396.321 2336.79 403.451 Q2336.79 410.557 2338.59 414.122 Q2340.42 417.664 2344.03 417.664 Q2347.67 417.664 2349.47 414.122 Q2351.3 410.557 2351.3 403.451 Q2351.3 396.321 2349.47 392.78 Q2347.67 389.215 2344.03 389.215 M2344.03 385.511 Q2349.84 385.511 2352.9 390.118 Q2355.98 394.701 2355.98 403.451 Q2355.98 412.178 2352.9 416.784 Q2349.84 421.368 2344.03 421.368 Q2338.22 421.368 2335.14 416.784 Q2332.09 412.178 2332.09 403.451 Q2332.09 394.701 2335.14 390.118 Q2338.22 385.511 2344.03 385.511 Z\" fill=\"#000000\" fill-rule=\"evenodd\" fill-opacity=\"1\" /><path clip-path=\"url(#clip490)\" d=\"M 0 0 M2280.7 209.314 Q2277.09 209.314 2275.26 212.879 Q2273.45 216.421 2273.45 223.55 Q2273.45 230.657 2275.26 234.222 Q2277.09 237.763 2280.7 237.763 Q2284.33 237.763 2286.14 234.222 Q2287.97 230.657 2287.97 223.55 Q2287.97 216.421 2286.14 212.879 Q2284.33 209.314 2280.7 209.314 M2280.7 205.611 Q2286.51 205.611 2289.57 210.217 Q2292.64 214.801 2292.64 223.55 Q2292.64 232.277 2289.57 236.884 Q2286.51 241.467 2280.7 241.467 Q2274.89 241.467 2271.81 236.884 Q2268.76 232.277 2268.76 223.55 Q2268.76 214.801 2271.81 210.217 Q2274.89 205.611 2280.7 205.611 Z\" fill=\"#000000\" fill-rule=\"evenodd\" fill-opacity=\"1\" /><path clip-path=\"url(#clip490)\" d=\"M 0 0 M2297.71 234.916 L2302.6 234.916 L2302.6 240.796 L2297.71 240.796 L2297.71 234.916 Z\" fill=\"#000000\" fill-rule=\"evenodd\" fill-opacity=\"1\" /><path clip-path=\"url(#clip490)\" d=\"M 0 0 M2321.83 222.162 Q2325.19 222.879 2327.07 225.148 Q2328.96 227.416 2328.96 230.75 Q2328.96 235.865 2325.45 238.666 Q2321.93 241.467 2315.45 241.467 Q2313.27 241.467 2310.95 241.027 Q2308.66 240.611 2306.21 239.754 L2306.21 235.24 Q2308.15 236.374 2310.47 236.953 Q2312.78 237.532 2315.31 237.532 Q2319.7 237.532 2322 235.796 Q2324.31 234.06 2324.31 230.75 Q2324.31 227.694 2322.16 225.981 Q2320.03 224.245 2316.21 224.245 L2312.18 224.245 L2312.18 220.402 L2316.39 220.402 Q2319.84 220.402 2321.67 219.037 Q2323.5 217.648 2323.5 215.055 Q2323.5 212.393 2321.6 210.981 Q2319.73 209.546 2316.21 209.546 Q2314.29 209.546 2312.09 209.963 Q2309.89 210.379 2307.25 211.259 L2307.25 207.092 Q2309.91 206.352 2312.23 205.981 Q2314.57 205.611 2316.63 205.611 Q2321.95 205.611 2325.05 208.041 Q2328.15 210.449 2328.15 214.569 Q2328.15 217.439 2326.51 219.43 Q2324.87 221.398 2321.83 222.162 Z\" fill=\"#000000\" fill-rule=\"evenodd\" fill-opacity=\"1\" /><path clip-path=\"url(#clip490)\" d=\"M 0 0 M2334.08 206.236 L2352.44 206.236 L2352.44 210.171 L2338.36 210.171 L2338.36 218.643 Q2339.38 218.296 2340.4 218.134 Q2341.42 217.949 2342.44 217.949 Q2348.22 217.949 2351.6 221.12 Q2354.98 224.291 2354.98 229.708 Q2354.98 235.287 2351.51 238.388 Q2348.04 241.467 2341.72 241.467 Q2339.54 241.467 2337.27 241.097 Q2335.03 240.726 2332.62 239.986 L2332.62 235.287 Q2334.7 236.421 2336.93 236.976 Q2339.15 237.532 2341.63 237.532 Q2345.63 237.532 2347.97 235.425 Q2350.31 233.319 2350.31 229.708 Q2350.31 226.097 2347.97 223.99 Q2345.63 221.884 2341.63 221.884 Q2339.75 221.884 2337.88 222.3 Q2336.02 222.717 2334.08 223.597 L2334.08 206.236 Z\" fill=\"#000000\" fill-rule=\"evenodd\" fill-opacity=\"1\" /><path clip-path=\"url(#clip490)\" d=\"M 0 0 M2280.7 29.414 Q2277.09 29.414 2275.26 32.9788 Q2273.45 36.5204 2273.45 43.65 Q2273.45 50.7565 2275.26 54.3213 Q2277.09 57.8629 2280.7 57.8629 Q2284.33 57.8629 2286.14 54.3213 Q2287.97 50.7565 2287.97 43.65 Q2287.97 36.5204 2286.14 32.9788 Q2284.33 29.414 2280.7 29.414 M2280.7 25.7103 Q2286.51 25.7103 2289.57 30.3168 Q2292.64 34.9001 2292.64 43.65 Q2292.64 52.3768 2289.57 56.9833 Q2286.51 61.5666 2280.7 61.5666 Q2274.89 61.5666 2271.81 56.9833 Q2268.76 52.3768 2268.76 43.65 Q2268.76 34.9001 2271.81 30.3168 Q2274.89 25.7103 2280.7 25.7103 Z\" fill=\"#000000\" fill-rule=\"evenodd\" fill-opacity=\"1\" /><path clip-path=\"url(#clip490)\" d=\"M 0 0 M2297.71 55.0157 L2302.6 55.0157 L2302.6 60.8953 L2297.71 60.8953 L2297.71 55.0157 Z\" fill=\"#000000\" fill-rule=\"evenodd\" fill-opacity=\"1\" /><path clip-path=\"url(#clip490)\" d=\"M 0 0 M2320.51 30.4093 L2308.71 48.8583 L2320.51 48.8583 L2320.51 30.4093 M2319.29 26.3353 L2325.17 26.3353 L2325.17 48.8583 L2330.1 48.8583 L2330.1 52.7472 L2325.17 52.7472 L2325.17 60.8953 L2320.51 60.8953 L2320.51 52.7472 L2304.91 52.7472 L2304.91 48.2333 L2319.29 26.3353 Z\" fill=\"#000000\" fill-rule=\"evenodd\" fill-opacity=\"1\" /><path clip-path=\"url(#clip490)\" d=\"M 0 0 M2345.17 29.414 Q2341.56 29.414 2339.73 32.9788 Q2337.92 36.5204 2337.92 43.65 Q2337.92 50.7565 2339.73 54.3213 Q2341.56 57.8629 2345.17 57.8629 Q2348.8 57.8629 2350.61 54.3213 Q2352.44 50.7565 2352.44 43.65 Q2352.44 36.5204 2350.61 32.9788 Q2348.8 29.414 2345.17 29.414 M2345.17 25.7103 Q2350.98 25.7103 2354.03 30.3168 Q2357.11 34.9001 2357.11 43.65 Q2357.11 52.3768 2354.03 56.9833 Q2350.98 61.5666 2345.17 61.5666 Q2339.36 61.5666 2336.28 56.9833 Q2333.22 52.3768 2333.22 43.65 Q2333.22 34.9001 2336.28 30.3168 Q2339.36 25.7103 2345.17 25.7103 Z\" fill=\"#000000\" fill-rule=\"evenodd\" fill-opacity=\"1\" /><polyline clip-path=\"url(#clip490)\" style=\"stroke:#000000; stroke-width:4; stroke-opacity:1; fill:none\" points=\"\n",
       "  2232.76,1486.45 2232.76,1486.45 2256.76,1486.45 2232.76,1486.45 2232.76,1306.55 2256.76,1306.55 2232.76,1306.55 2232.76,1126.65 2256.76,1126.65 2232.76,1126.65 \n",
       "  2232.76,946.746 2256.76,946.746 2232.76,946.746 2232.76,766.846 2256.76,766.846 2232.76,766.846 2232.76,586.946 2256.76,586.946 2232.76,586.946 2232.76,407.045 \n",
       "  2256.76,407.045 2232.76,407.045 2232.76,227.145 2256.76,227.145 2232.76,227.145 2232.76,47.2441 2256.76,47.2441 2232.76,47.2441 \n",
       "  \"/>\n",
       "</svg>\n"
      ]
     },
     "execution_count": 26,
     "metadata": {},
     "output_type": "execute_result"
    }
   ],
   "source": [
    "heatmap(a)"
   ]
  },
  {
   "cell_type": "code",
   "execution_count": null,
   "metadata": {},
   "outputs": [],
   "source": [
    "qValues = rand(nPlayers, nActions, nSim)\n",
    "payoffs = generateGames(Gamma, nSim, corr, nActions, nPlayers)\n",
    "\n",
    "probs = getActionProbs(qValues, (0.05, 1, 1))\n",
    "bChoice = [[rand(Bernoulli(probs[p, 1, s])) + 1 for p=1:nPlayers] for s=1:nSim]\n",
    "\n",
    "choiceIdx = [corr[findall(x -> x==tuple(bChoice[s]...), actions)[1]] for s=1:nSim]\n",
    "\n",
    "rewards = [payoffs[choiceIdx[s], s] for s=1:nSim]\n",
    "\n",
    "update = [rewards[s] - diag(qValues[:, bChoice[s], s]) + gamma * findmax(qValues[:, :, s], dims=2)[1] for s=1:nSim]\n",
    "# [i for i in bChoice[1]]\n",
    "for s = 1:nSim\n",
    "    for p = 1:nPlayers\n",
    "        qValues[p, bChoice[s][p], s] += alpha * update[s][p]\n",
    "    end\n",
    "end"
   ]
  },
  {
   "cell_type": "code",
   "execution_count": 28,
   "metadata": {},
   "outputs": [
    {
     "data": {
      "text/plain": [
       "Any[]"
      ]
     },
     "execution_count": 28,
     "metadata": {},
     "output_type": "execute_result"
    }
   ],
   "source": [
    "tau = 0.05\n",
    "alpha = 0.02\n",
    "gamma = 0.1\n",
    "\n",
    "initnSim = 20\n",
    "nActions = 2\n",
    "\n",
    "t0 = 25000\n",
    "\n",
    "nIter = trunc(Int, 5e4)\n",
    "\n",
    "allVars = []"
   ]
  },
  {
   "cell_type": "code",
   "execution_count": 29,
   "metadata": {},
   "outputs": [
    {
     "data": {
      "text/plain": [
       "getVariance (generic function with 1 method)"
      ]
     },
     "execution_count": 29,
     "metadata": {},
     "output_type": "execute_result"
    }
   ],
   "source": [
    "function getVariance(actionTracker)\n",
    "    \n",
    "\n",
    "    T = hcat([reshape(actionTracker[i], nPlayers * nSim * nActions) for i=1:length(actionTracker)]...)\n",
    "    var = ((1 /length(actionTracker)) * sum(T.^2, dims=2)) - ((1/length(actionTracker)) * sum(T, dims=2)).^2\n",
    "    part = [var[i*(nActions*nPlayers)+1:(i+1)*(nActions*nPlayers)] for i=0:nSim-1]\n",
    "\n",
    "    return mean([mean(p) for p in part])\n",
    "\n",
    "    \n",
    "end"
   ]
  },
  {
   "cell_type": "code",
   "execution_count": 31,
   "metadata": {},
   "outputs": [
    {
     "name": "stderr",
     "output_type": "stream",
     "text": [
      "\u001b[32mProgress:  30%|████████████▎                            |  ETA: 0:30:34\u001b[39m"
     ]
    },
    {
     "name": "stdout",
     "output_type": "stream",
     "text": [
      "nPlayers = 3\n",
      "nPlayers = 4\n",
      "nPlayers = 5\n",
      "nPlayers = 6\n"
     ]
    },
    {
     "ename": "LoadError",
     "evalue": "InterruptException:",
     "output_type": "error",
     "traceback": [
      "InterruptException:",
      "",
      "Stacktrace:",
      " [1] (::var\"#12#15\"{Int64,Array{Array{Int64,1},1}})(::NTuple{6,Int64}) at ./In[7]:4",
      " [2] #83 at ./iterators.jl:0 [inlined]",
      " [3] iterate at ./iterators.jl:431 [inlined]",
      " [4] iterate at ./generator.jl:44 [inlined]",
      " [5] grow_to!(::Array{Int64,1}, ::Base.Generator{Base.Iterators.Filter{Base.var\"#83#84\"{var\"#12#15\"{Int64,Array{Array{Int64,1},1}}},Base.Iterators.Pairs{Int64,NTuple{6,Int64},LinearIndices{1,Tuple{Base.OneTo{Int64}}},Array{NTuple{6,Int64},1}}},typeof(first)}, ::Int64) at ./array.jl:778",
      " [6] grow_to!(::Array{Int64,1}, ::Base.Generator{Base.Iterators.Filter{Base.var\"#83#84\"{var\"#12#15\"{Int64,Array{Array{Int64,1},1}}},Base.Iterators.Pairs{Int64,NTuple{6,Int64},LinearIndices{1,Tuple{Base.OneTo{Int64}}},Array{NTuple{6,Int64},1}}},typeof(first)}) at ./array.jl:751",
      " [7] collect at ./array.jl:684 [inlined]",
      " [8] findall at ./array.jl:2108 [inlined]",
      " [9] #11 at ./none:0 [inlined]",
      " [10] iterate at ./generator.jl:47 [inlined]",
      " [11] collect_to!(::Array{Array{Int64,1},1}, ::Base.Generator{UnitRange{Int64},var\"#11#14\"{Array{Array{Int64,1},1},Array{Array{Int64,1},1},Array{NTuple{6,Int64},1}}}, ::Int64, ::Int64) at ./array.jl:732",
      " [12] collect_to_with_first! at ./array.jl:710 [inlined]",
      " [13] collect(::Base.Generator{UnitRange{Int64},var\"#11#14\"{Array{Array{Int64,1},1},Array{Array{Int64,1},1},Array{NTuple{6,Int64},1}}}) at ./array.jl:691",
      " [14] findPayoffs at ./In[7]:4 [inlined]",
      " [15] qUpdate!(::Array{Float64,3}, ::Array{Float64,2}, ::Tuple{Int64,Int64,Int64}, ::Tuple{Float64,Float64,Float64}, ::Array{Array{Int64,1},1}, ::Array{NTuple{6,Int64},1}) at ./In[8]:8",
      " [16] macro expansion at ./In[31]:21 [inlined]",
      " [17] top-level scope at /Users/aamalhussain/.julia/packages/ProgressMeter/GhAId/src/ProgressMeter.jl:762",
      " [18] include_string(::Function, ::Module, ::String, ::String) at ./loading.jl:1091"
     ]
    }
   ],
   "source": [
    "@showprogress for p = 3:12\n",
    "    global nPlayers = p\n",
    "    actions, corr = generateCorrespondences(nActions, nPlayers)\n",
    "    \n",
    "    varGamma = []\n",
    "        @show nPlayers\n",
    "    for Gamma in LinRange(-1, 0, 10)\n",
    "        \n",
    "        global nSim = initnSim\n",
    "\n",
    "        qValues = rand(nPlayers, nActions, nSim)\n",
    "        payoffs = generateGames(Gamma, nSim, corr, nActions, nPlayers)\n",
    "\n",
    "        actionTracker = []\n",
    "\n",
    "        for cIter = 1:nIter\n",
    "                \n",
    "            gameParams = (nSim, nPlayers, nActions)\n",
    "            agentParams = (alpha, tau, gamma)\n",
    "\n",
    "            qUpdate!(qValues, payoffs, gameParams, agentParams, corr, actions)\n",
    "            \n",
    "            if cIter > t0\n",
    "                append!(actionTracker, [getActionProbs(qValues, agentParams)])\n",
    "            end\n",
    "\n",
    "        end\n",
    "        append!(varGamma, getVariance(actionTracker))\n",
    "    end\n",
    "    \n",
    "    append!(allVars, [mean(varGamma), std(varGamma)])\n",
    "end"
   ]
  },
  {
   "cell_type": "code",
   "execution_count": null,
   "metadata": {},
   "outputs": [],
   "source": [
    "T = hcat([reshape(actionTracker[i], nPlayers * nSim * nActions) for i=1:length(actionTracker)]...)\n",
    "h = (1/nActions) * sum(((1 / (nIter - t0)) * sum(T, dims=2).^2) - ((1/(nIter - t0)) * sum(T, dims=2)).^2, dims=1)\n",
    "var = ((1 /length(actionTracker)) * sum(T.^2, dims=2)) - ((1/length(actionTracker)) * sum(T, dims=2)).^2\n",
    "part = [var[i*(nActions*nPlayers)+1:(i+1)*(nActions*nPlayers)] for i=0:nSim-1]\n",
    "\n",
    "mean([mean(p) for p in part])\n",
    "# mean(std(T, dims=2).^2)"
   ]
  },
  {
   "cell_type": "code",
   "execution_count": null,
   "metadata": {},
   "outputs": [],
   "source": [
    "nPlayers"
   ]
  },
  {
   "cell_type": "code",
   "execution_count": null,
   "metadata": {},
   "outputs": [],
   "source": []
  }
 ],
 "metadata": {
  "kernelspec": {
   "display_name": "Julia 1.5.3",
   "language": "julia",
   "name": "julia-1.5"
  },
  "language_info": {
   "file_extension": ".jl",
   "mimetype": "application/julia",
   "name": "julia",
   "version": "1.5.3"
  }
 },
 "nbformat": 4,
 "nbformat_minor": 4
}
