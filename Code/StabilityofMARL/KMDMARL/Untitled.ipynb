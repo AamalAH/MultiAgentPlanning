{
 "cells": [
  {
   "cell_type": "code",
   "execution_count": 23,
   "metadata": {},
   "outputs": [],
   "source": [
    "from KMDAnalysis import *"
   ]
  },
  {
   "cell_type": "code",
   "execution_count": 28,
   "metadata": {},
   "outputs": [],
   "source": [
    "# alpha = .1\n",
    "gamma = 0.1\n",
    "Gamma = 0.1\n",
    "tau = 0.05\n",
    "alpha = 0.1\n",
    "\n",
    "nActions = 5\n",
    "t0 = 500\n",
    "\n",
    "initnSim = 1\n",
    "\n",
    "delta_0 = 1e-3\n",
    "nSim = 2\n",
    "nIter = int(1.5e4)\n"
   ]
  },
  {
   "cell_type": "code",
   "execution_count": 29,
   "metadata": {},
   "outputs": [
    {
     "name": "stderr",
     "output_type": "stream",
     "text": [
      "  0%|          | 0/1 [00:00<?, ?it/s]\n"
     ]
    },
    {
     "ename": "IndexError",
     "evalue": "index 2 is out of bounds for axis 2 with size 2",
     "output_type": "error",
     "traceback": [
      "\u001b[0;31m---------------------------------------------------------------------------\u001b[0m",
      "\u001b[0;31mIndexError\u001b[0m                                Traceback (most recent call last)",
      "\u001b[0;32m<ipython-input-29-46c465acfd3d>\u001b[0m in \u001b[0;36m<module>\u001b[0;34m\u001b[0m\n\u001b[1;32m      7\u001b[0m \u001b[0;34m\u001b[0m\u001b[0m\n\u001b[1;32m      8\u001b[0m             \u001b[0;32mfor\u001b[0m \u001b[0mcIter\u001b[0m \u001b[0;32min\u001b[0m \u001b[0mrange\u001b[0m\u001b[0;34m(\u001b[0m\u001b[0mnIter\u001b[0m\u001b[0;34m)\u001b[0m\u001b[0;34m:\u001b[0m\u001b[0;34m\u001b[0m\u001b[0;34m\u001b[0m\u001b[0m\n\u001b[0;32m----> 9\u001b[0;31m                 \u001b[0mqValues0\u001b[0m \u001b[0;34m=\u001b[0m \u001b[0mqUpdate\u001b[0m\u001b[0;34m(\u001b[0m\u001b[0mqValues0\u001b[0m\u001b[0;34m,\u001b[0m \u001b[0mpayoffs\u001b[0m\u001b[0;34m)\u001b[0m\u001b[0;34m\u001b[0m\u001b[0;34m\u001b[0m\u001b[0m\n\u001b[0m\u001b[1;32m     10\u001b[0m \u001b[0;34m\u001b[0m\u001b[0m\n\u001b[1;32m     11\u001b[0m                 \u001b[0;32mif\u001b[0m \u001b[0mcIter\u001b[0m \u001b[0;34m>=\u001b[0m \u001b[0;36m0\u001b[0m\u001b[0;34m:\u001b[0m\u001b[0;34m\u001b[0m\u001b[0;34m\u001b[0m\u001b[0m\n",
      "\u001b[0;32m~/STAI/Code/StabilityofMARL/KMDMARL/KMDAnalysis.py\u001b[0m in \u001b[0;36mqUpdate\u001b[0;34m(qValues, payoffs)\u001b[0m\n\u001b[1;32m     88\u001b[0m         qValues[[0] * nSim, :, (range(nSim))], axis=1))\n\u001b[1;32m     89\u001b[0m \u001b[0;34m\u001b[0m\u001b[0m\n\u001b[0;32m---> 90\u001b[0;31m     qValues[[1] * nSim, boltzmannChoices[:, 1], list(range(nSim))] += alpha * (\n\u001b[0m\u001b[1;32m     91\u001b[0m             rewardBs - qValues[[1] * nSim, boltzmannChoices[:, 1], (range(nSim))] + gamma * np.max(\n\u001b[1;32m     92\u001b[0m         qValues[[1] * nSim, :, (range(nSim))], axis=1))\n",
      "\u001b[0;32m~/STAI/Code/StabilityofMARL/KMDMARL/KMDAnalysis.py\u001b[0m in \u001b[0;36mgetActionProbs\u001b[0;34m(qValues, nSim)\u001b[0m\n\u001b[1;32m     69\u001b[0m     \u001b[0mpayoffs\u001b[0m\u001b[0;34m:\u001b[0m \u001b[0mlist\u001b[0m \u001b[0mof\u001b[0m \u001b[0mmatrices\u001b[0m \u001b[0meach\u001b[0m \u001b[0mnAct\u001b[0m \u001b[0mx\u001b[0m \u001b[0mnAct\u001b[0m \u001b[0mx\u001b[0m \u001b[0mnSim\u001b[0m\u001b[0;34m\u001b[0m\u001b[0;34m\u001b[0m\u001b[0m\n\u001b[1;32m     70\u001b[0m \u001b[0;34m\u001b[0m\u001b[0m\n\u001b[0;32m---> 71\u001b[0;31m     \u001b[0;34m:\u001b[0m\u001b[0mreturns\u001b[0m\u001b[0;34m\u001b[0m\u001b[0;34m\u001b[0m\u001b[0m\n\u001b[0m\u001b[1;32m     72\u001b[0m \u001b[0;34m\u001b[0m\u001b[0m\n\u001b[1;32m     73\u001b[0m     \u001b[0mqValues\u001b[0m\u001b[0;34m:\u001b[0m \u001b[0;36m2\u001b[0m \u001b[0mx\u001b[0m \u001b[0mnActions\u001b[0m \u001b[0mx\u001b[0m \u001b[0mnSim\u001b[0m \u001b[0mnumpy\u001b[0m \u001b[0marray\u001b[0m \u001b[0mshowing\u001b[0m \u001b[0mthe\u001b[0m \u001b[0mqValues\u001b[0m \u001b[0mof\u001b[0m \u001b[0mall\u001b[0m \u001b[0magents\u001b[0m \u001b[0macross\u001b[0m \u001b[0mall\u001b[0m \u001b[0mActions\u001b[0m \u001b[0;32mand\u001b[0m \u001b[0mSimulations\u001b[0m\u001b[0;34m\u001b[0m\u001b[0;34m\u001b[0m\u001b[0m\n",
      "\u001b[0;32m~/STAI/Code/StabilityofMARL/KMDMARL/KMDAnalysis.py\u001b[0m in \u001b[0;36m<listcomp>\u001b[0;34m(.0)\u001b[0m\n\u001b[1;32m     69\u001b[0m     \u001b[0mpayoffs\u001b[0m\u001b[0;34m:\u001b[0m \u001b[0mlist\u001b[0m \u001b[0mof\u001b[0m \u001b[0mmatrices\u001b[0m \u001b[0meach\u001b[0m \u001b[0mnAct\u001b[0m \u001b[0mx\u001b[0m \u001b[0mnAct\u001b[0m \u001b[0mx\u001b[0m \u001b[0mnSim\u001b[0m\u001b[0;34m\u001b[0m\u001b[0;34m\u001b[0m\u001b[0m\n\u001b[1;32m     70\u001b[0m \u001b[0;34m\u001b[0m\u001b[0m\n\u001b[0;32m---> 71\u001b[0;31m     \u001b[0;34m:\u001b[0m\u001b[0mreturns\u001b[0m\u001b[0;34m\u001b[0m\u001b[0;34m\u001b[0m\u001b[0m\n\u001b[0m\u001b[1;32m     72\u001b[0m \u001b[0;34m\u001b[0m\u001b[0m\n\u001b[1;32m     73\u001b[0m     \u001b[0mqValues\u001b[0m\u001b[0;34m:\u001b[0m \u001b[0;36m2\u001b[0m \u001b[0mx\u001b[0m \u001b[0mnActions\u001b[0m \u001b[0mx\u001b[0m \u001b[0mnSim\u001b[0m \u001b[0mnumpy\u001b[0m \u001b[0marray\u001b[0m \u001b[0mshowing\u001b[0m \u001b[0mthe\u001b[0m \u001b[0mqValues\u001b[0m \u001b[0mof\u001b[0m \u001b[0mall\u001b[0m \u001b[0magents\u001b[0m \u001b[0macross\u001b[0m \u001b[0mall\u001b[0m \u001b[0mActions\u001b[0m \u001b[0;32mand\u001b[0m \u001b[0mSimulations\u001b[0m\u001b[0;34m\u001b[0m\u001b[0;34m\u001b[0m\u001b[0m\n",
      "\u001b[0;32m~/STAI/Code/StabilityofMARL/KMDMARL/KMDAnalysis.py\u001b[0m in \u001b[0;36m<listcomp>\u001b[0;34m(.0)\u001b[0m\n\u001b[1;32m     69\u001b[0m     \u001b[0mpayoffs\u001b[0m\u001b[0;34m:\u001b[0m \u001b[0mlist\u001b[0m \u001b[0mof\u001b[0m \u001b[0mmatrices\u001b[0m \u001b[0meach\u001b[0m \u001b[0mnAct\u001b[0m \u001b[0mx\u001b[0m \u001b[0mnAct\u001b[0m \u001b[0mx\u001b[0m \u001b[0mnSim\u001b[0m\u001b[0;34m\u001b[0m\u001b[0;34m\u001b[0m\u001b[0m\n\u001b[1;32m     70\u001b[0m \u001b[0;34m\u001b[0m\u001b[0m\n\u001b[0;32m---> 71\u001b[0;31m     \u001b[0;34m:\u001b[0m\u001b[0mreturns\u001b[0m\u001b[0;34m\u001b[0m\u001b[0;34m\u001b[0m\u001b[0m\n\u001b[0m\u001b[1;32m     72\u001b[0m \u001b[0;34m\u001b[0m\u001b[0m\n\u001b[1;32m     73\u001b[0m     \u001b[0mqValues\u001b[0m\u001b[0;34m:\u001b[0m \u001b[0;36m2\u001b[0m \u001b[0mx\u001b[0m \u001b[0mnActions\u001b[0m \u001b[0mx\u001b[0m \u001b[0mnSim\u001b[0m \u001b[0mnumpy\u001b[0m \u001b[0marray\u001b[0m \u001b[0mshowing\u001b[0m \u001b[0mthe\u001b[0m \u001b[0mqValues\u001b[0m \u001b[0mof\u001b[0m \u001b[0mall\u001b[0m \u001b[0magents\u001b[0m \u001b[0macross\u001b[0m \u001b[0mall\u001b[0m \u001b[0mActions\u001b[0m \u001b[0;32mand\u001b[0m \u001b[0mSimulations\u001b[0m\u001b[0;34m\u001b[0m\u001b[0;34m\u001b[0m\u001b[0m\n",
      "\u001b[0;31mIndexError\u001b[0m: index 2 is out of bounds for axis 2 with size 2"
     ]
    }
   ],
   "source": [
    "for alpha in tqdm(np.linspace(1e-2, 5e-2, num=1)):\n",
    "        for Gamma in np.linspace(-0.5, 0.5, num=1):\n",
    "            payoffs = generateGames(Gamma, nSim, nActions)\n",
    "            allActions = []\n",
    "\n",
    "            qValues0 = np.random.rand(2, nActions, nSim)\n",
    "\n",
    "            for cIter in range(nIter):\n",
    "                qValues0 = qUpdate(qValues0, payoffs)\n",
    "\n",
    "                if cIter >= 0:\n",
    "\n",
    "                    allActions += [stringActions(getActionProbs(qValues0, nSim))]\n",
    "\n",
    "                    if cIter == 30:\n",
    "                        dmd = DMD(svd_rank=-1)\n",
    "\n",
    "                        dmd.fit(np.array(allActions).T)\n",
    "                        dmd.plot_eigs()\n",
    "                        print(abs(dmd.eigs))\n",
    "                        print((dmd.eigs.real))\n",
    "                        \n",
    "                        \n",
    "                    if cIter == 100:\n",
    "                        dmd = DMD(svd_rank=-1)\n",
    "\n",
    "                        dmd.fit(np.array(allActions).T)\n",
    "                        dmd.plot_eigs()\n",
    "                        print(abs(dmd.eigs))\n",
    "                        print((dmd.eigs.real))\n",
    "                        \n",
    "#                         plt.show()\n",
    "\n",
    "#                     if cIter % 12000 == 0 and cIter != 0:\n",
    "\n",
    "#                         dmd = DMD(svd_rank=-1)\n",
    "\n",
    "#                         dmd.fit(np.array(allActions).T)\n",
    "\n",
    "#                         fig = plt.figure()\n",
    "#                         ax1 = fig.add_subplot(121)\n",
    "#                         ax2 = fig.add_subplot(122)\n",
    "#                         allActions = np.array(allActions)\n",
    "#                         ax1.plot(allActions[:, 2], allActions[:, 3], 'r--')\n",
    "#                         ax1.set_xlim([0, 1]), ax1.set_ylim([0, 1])\n",
    "\n",
    "#                         A = dmd.reconstructed_data.real\n",
    "\n",
    "#                         ax2.plot(A[2], A[3], 'b--')\n",
    "#                         ax2.set_xlim([0, 1]), ax2.set_ylim([0, 1])\n",
    "\n",
    "                        # fig2 = plt.figure()\n",
    "                        # ax12 = fig2.add_subplot(121)\n",
    "                        # ax22 = fig2.add_subplot(122)\n",
    "                        #\n",
    "                        # ax12.plot(allActions[:, 2], allActions[:, 3], 'r--')\n",
    "                        # ax12.set_xlim([0, 1]), ax12.set_ylim([0, 1])\n",
    "                        #\n",
    "                        # A = dmd.reconstructed_data.real\n",
    "                        #\n",
    "                        # ax22.plot(A[2], A[3], 'b--')\n",
    "                        # ax22.set_xlim([0, 1]), ax22.set_ylim([0, 1])\n",
    "\n",
    "#                         plt.show()\n",
    "\n",
    "                        # allActions = []\n"
   ]
  },
  {
   "cell_type": "code",
   "execution_count": null,
   "metadata": {},
   "outputs": [],
   "source": []
  }
 ],
 "metadata": {
  "kernelspec": {
   "display_name": "Python 3",
   "language": "python",
   "name": "python3"
  },
  "language_info": {
   "codemirror_mode": {
    "name": "ipython",
    "version": 3
   },
   "file_extension": ".py",
   "mimetype": "text/x-python",
   "name": "python",
   "nbconvert_exporter": "python",
   "pygments_lexer": "ipython3",
   "version": "3.8.5"
  }
 },
 "nbformat": 4,
 "nbformat_minor": 4
}
