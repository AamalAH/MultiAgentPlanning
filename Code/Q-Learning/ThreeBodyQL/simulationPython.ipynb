{
 "cells": [
  {
   "cell_type": "code",
   "execution_count": 2,
   "metadata": {},
   "outputs": [],
   "source": [
    "%matplotlib qt\n",
    "import numpy as np\n",
    "import matplotlib.pyplot as plt\n",
    "from mpl_toolkits.mplot3d import Axes3D\n",
    "from scipy.integrate import odeint"
   ]
  },
  {
   "cell_type": "code",
   "execution_count": 40,
   "metadata": {},
   "outputs": [],
   "source": [
    "import ThreeBodyFunctions as tb\n",
    "import TwoBodyTests as t2\n"
   ]
  },
  {
   "cell_type": "code",
   "execution_count": 28,
   "metadata": {},
   "outputs": [],
   "source": [
    "alpha, tau, gamma = 1e-2, 1, 0.\n",
    "\n",
    "agentParams = alpha, tau, gamma"
   ]
  },
  {
   "cell_type": "code",
   "execution_count": 15,
   "metadata": {},
   "outputs": [
    {
     "output_type": "stream",
     "name": "stdout",
     "text": [
      "[0.57786963 0.35191067 0.41563144]\n"
     ]
    }
   ],
   "source": [
    "firstActionTracker = tb.simulate(agentParams)\n",
    "\n",
    "fig = plt.figure()\n",
    "ax = fig.add_subplot(111, projection='3d')\n",
    "ax.set_xlabel('P1')\n",
    "ax.set_ylabel('P2')\n",
    "ax.set_zlabel('P3')\n",
    "\n",
    "samples = 100\n",
    "\n",
    "ax.plot(firstActionTracker[0, ::samples], firstActionTracker[1, ::samples], firstActionTracker[2, ::samples])\n",
    "ax.scatter(firstActionTracker[0, -1], firstActionTracker[1, -1], firstActionTracker[2, -1], color=\"r\", marker=\"+\")\n",
    "print(firstActionTracker[:, -1])\n",
    "plt.show()"
   ]
  },
  {
   "cell_type": "code",
   "execution_count": 19,
   "metadata": {},
   "outputs": [
    {
     "output_type": "stream",
     "name": "stdout",
     "text": [
      "[0.5 0.5 0.5]\n"
     ]
    }
   ],
   "source": [
    "Q = tb.initialiseQ()\n",
    "G = tb.generateMatchingPennies()\n",
    "\n",
    "x0 = tb.getActionProbs(Q, agentParams).reshape(6)\n",
    "\n",
    "t = np.linspace(0, int(1e8), int(1e5) + 1)\n",
    "\n",
    "sol = odeint(tb.TuylsODE, x0, t, args=(G, agentParams))\n",
    "\n",
    "fig = plt.figure()\n",
    "ax = fig.add_subplot(111, projection='3d')\n",
    "ax.set_xlabel('P1')\n",
    "ax.set_ylabel('P2')\n",
    "ax.set_zlabel('P3')\n",
    "\n",
    "ax.plot(sol[:, 0], sol[:, 2], sol[:, 4]), plt.show()\n",
    "print(sol[-1, [0, 2, 4]])"
   ]
  },
  {
   "cell_type": "code",
   "execution_count": 42,
   "metadata": {},
   "outputs": [
    {
     "output_type": "execute_result",
     "data": {
      "text/plain": [
       "([<matplotlib.lines.Line2D at 0x7fb2e89392d0>], None)"
      ]
     },
     "metadata": {},
     "execution_count": 42
    }
   ],
   "source": [
    "\n",
    "Q = t2.initialiseQ()\n",
    "G = t2.generateMatchingPennies()\n",
    "\n",
    "x0 = t2.getActionProbs(Q, agentParams).reshape(4)\n",
    "\n",
    "t = np.linspace(0, int(1e3), int(1e4) + 1)\n",
    "\n",
    "sol = odeint(t2.TuylsODE, x0, t, args=(G, agentParams))\n",
    "\n",
    "fig = plt.figure()\n",
    "ax = fig.add_subplot(111)\n",
    "ax.set_xlabel('P1')\n",
    "ax.set_ylabel('P2')\n",
    "\n",
    "ax.plot(sol[:, 0], sol[:, 2]), plt.show()"
   ]
  },
  {
   "cell_type": "code",
   "execution_count": 46,
   "metadata": {},
   "outputs": [],
   "source": [
    "firstActionTracker = t2.simulate(agentParams, nIter=1.5e4)\n",
    "\n",
    "fig = plt.figure()\n",
    "ax = fig.add_subplot(111)\n",
    "\n",
    "startSamples = int(1e4)\n",
    "\n",
    "ax.plot(firstActionTracker[0, ::], firstActionTracker[1, ::], alpha=0.3)\n",
    "\n",
    "ax.scatter(firstActionTracker[0, 0], firstActionTracker[1, 0], color=\"y\", marker=\"+\")\n",
    "\n",
    "ax.scatter(firstActionTracker[0, -1], firstActionTracker[1, -1], color=\"r\", marker=\"+\")\n",
    "\n",
    "G = t2.generateMatchingPennies()\n",
    "\n",
    "x0 = (np.vstack((firstActionTracker[:, 0], 1 - firstActionTracker[:, 0])).T).reshape(4)\n",
    "\n",
    "t = np.linspace(0, int(1e3), int(1e4) + 1)\n",
    "\n",
    "sol = odeint(t2.TuylsODE, x0, t, args=(G, agentParams))\n",
    "\n",
    "ax.set_xlim([0, 1])\n",
    "ax.set_ylim([0, 1])\n",
    "\n",
    "ax.set_xlabel('P1')\n",
    "ax.set_ylabel('P2')\n",
    "\n",
    "ax.plot(sol[:, 0], sol[:, 2], 'k')\n",
    "plt.show()\n"
   ]
  },
  {
   "cell_type": "code",
   "execution_count": 48,
   "metadata": {},
   "outputs": [
    {
     "output_type": "execute_result",
     "data": {
      "text/plain": [
       "([<mpl_toolkits.mplot3d.art3d.Line3D at 0x7fb2e7c04710>], None)"
      ]
     },
     "metadata": {},
     "execution_count": 48
    }
   ],
   "source": [
    "import reproducingNagarajan as rn\n",
    "\n",
    "\n",
    "G = rn.generateMatchingPennies()\n",
    "\n",
    "x0 = np.random.rand(3)\n",
    "x0 = (np.vstack((x0, 1 - x0)).T).reshape(6)\n",
    "\n",
    "t = np.linspace(0, int(1e3), int(1e4) + 1)\n",
    "\n",
    "sol = odeint(rn.replicatorODE, x0, t, args=G)\n",
    "\n",
    "fig = plt.figure()\n",
    "ax = fig.add_subplot(111, projection='3d')\n",
    "ax.set_xlabel('P1')\n",
    "ax.set_ylabel('P2')\n",
    "ax.set_zlabel('P3')\n",
    "\n",
    "ax.plot(sol[:, 0], sol[:, 2], sol[:, 4]), plt.show()"
   ]
  },
  {
   "cell_type": "code",
   "execution_count": null,
   "metadata": {},
   "outputs": [],
   "source": []
  }
 ],
 "metadata": {
  "kernelspec": {
   "display_name": "Python 3",
   "language": "python",
   "name": "python3"
  },
  "language_info": {
   "codemirror_mode": {
    "name": "ipython",
    "version": 3
   },
   "file_extension": ".py",
   "mimetype": "text/x-python",
   "name": "python",
   "nbconvert_exporter": "python",
   "pygments_lexer": "ipython3",
   "version": "3.7.4"
  }
 },
 "nbformat": 4,
 "nbformat_minor": 4
}