{
 "cells": [
  {
   "cell_type": "code",
   "execution_count": 117,
   "metadata": {},
   "outputs": [
    {
     "name": "stderr",
     "output_type": "stream",
     "text": [
      "┌ Info: Precompiling ProgressMeter [92933f4c-e287-5a05-a399-4b506db050ca]\n",
      "└ @ Base loading.jl:1278\n"
     ]
    }
   ],
   "source": [
    "using LinearAlgebra\n",
    "using SparseArrays\n",
    "using PyCall\n",
    "using Plots\n",
    "using IterTools\n",
    "using Distributions\n",
    "using ProgressMeter"
   ]
  },
  {
   "cell_type": "code",
   "execution_count": 4,
   "metadata": {},
   "outputs": [
    {
     "data": {
      "text/plain": [
       "allActions (generic function with 1 method)"
      ]
     },
     "execution_count": 4,
     "metadata": {},
     "output_type": "execute_result"
    }
   ],
   "source": [
    "py\"\"\"\n",
    "def allActions(nAct, nPlayers):\n",
    "    import itertools\n",
    "    idX = list(itertools.product(list(range(1, nAct + 1)), repeat=nPlayers)) * nPlayers\n",
    "    return idX\n",
    "\"\"\"\n",
    "allActions(nAct, nPlayers) = py\"allActions\"(nAct, nPlayers)"
   ]
  },
  {
   "cell_type": "code",
   "execution_count": 12,
   "metadata": {},
   "outputs": [
    {
     "data": {
      "text/plain": [
       "generateCorrespondences (generic function with 1 method)"
      ]
     },
     "execution_count": 12,
     "metadata": {},
     "output_type": "execute_result"
    }
   ],
   "source": [
    "function generateCorrespondences(gameParams)\n",
    "    nSim, nPlayers, nActions = gameParams\n",
    "    nElements = nActions^nPlayers\n",
    "    Actions = allActions(nActions, nPlayers)\n",
    "    allCombos = [[findall(x -> x==tuple(circshift([j for j in Actions[i]], -1*(p))...), Actions)[p+1] for p=0:nPlayers-1] for i=1:nElements]\n",
    "    \n",
    "    return Actions, allCombos\n",
    "end"
   ]
  },
  {
   "cell_type": "code",
   "execution_count": 6,
   "metadata": {},
   "outputs": [
    {
     "data": {
      "text/plain": [
       "generateGames (generic function with 1 method)"
      ]
     },
     "execution_count": 6,
     "metadata": {},
     "output_type": "execute_result"
    }
   ],
   "source": [
    "function generateGames(Gamma, nSim, allCombos, nActions, nPlayers)\n",
    "    \"\"\"\n",
    "    Create Covariance Matrix from Gamma\n",
    "    \n",
    "    Return Random Payoff Matrices: nPlayers*nElements x nSim\n",
    "    \n",
    "    \"\"\"\n",
    "    nElements = nActions^nPlayers\n",
    "    cov = Matrix(1.0I, nPlayers * nElements, nPlayers * nElements)\n",
    "    \n",
    "    \"\"\" Cycle through each of the combinations and assign them the appropriate Gamma \"\"\"\n",
    "    for c in allCombos\n",
    "        cov[c[1], c[2:end]] .= Gamma/(nPlayers-1)\n",
    "        cov[c[2:end], c[1]] .= Gamma/(nPlayers-1)\n",
    "    end\n",
    "        \n",
    "    \"\"\" draw from a Gaussian using this covariance matrix \"\"\"\n",
    "\n",
    "    return rand(MvNormal(zeros(nPlayers * nElements), cov), nSim)\n",
    "\n",
    "end"
   ]
  },
  {
   "cell_type": "code",
   "execution_count": 7,
   "metadata": {},
   "outputs": [
    {
     "data": {
      "text/plain": [
       "getActionProbs (generic function with 1 method)"
      ]
     },
     "execution_count": 7,
     "metadata": {},
     "output_type": "execute_result"
    }
   ],
   "source": [
    "function getActionProbs(qValues, agentParams)\n",
    "    \"\"\"\n",
    "    qValues: nPlayer x nActions x nSim\n",
    "    return: nPlayer x nActions x nSim\n",
    "    \"\"\"\n",
    "    alpha, tau, gamma = agentParams\n",
    "    \n",
    "    return exp.(tau * qValues)./sum(exp.(tau * qValues), dims=2)\n",
    "end"
   ]
  },
  {
   "cell_type": "code",
   "execution_count": 8,
   "metadata": {},
   "outputs": [
    {
     "data": {
      "text/plain": [
       "chooseActions (generic function with 1 method)"
      ]
     },
     "execution_count": 8,
     "metadata": {},
     "output_type": "execute_result"
    }
   ],
   "source": [
    "function chooseActions(actionProbs, gameParams)\n",
    "    \"\"\"\n",
    "    arg: actionProbs: nPlayer x nActions x nSim\n",
    "    return: nPlayer x nSim\n",
    "    \"\"\"\n",
    "    \n",
    "    nSim, nPlayers, nActions = gameParams\n",
    "    \n",
    "    return [[rand(Bernoulli(actionProbs[p, 1, s])) + 1 for p=1:nPlayers] for s=1:nSim]\n",
    "end"
   ]
  },
  {
   "cell_type": "code",
   "execution_count": 9,
   "metadata": {},
   "outputs": [
    {
     "data": {
      "text/plain": [
       "findPayoffs (generic function with 1 method)"
      ]
     },
     "execution_count": 9,
     "metadata": {},
     "output_type": "execute_result"
    }
   ],
   "source": [
    "function findPayoffs(choices, gameParams, corr, actions, payoffs)\n",
    "    choiceIdx = [corr[findall(x -> x==tuple(choices[s]...), actions)[1]] for s=1:nSim]\n",
    "    return [payoffs[choiceIdx[s], s] for s=1:nSim]\n",
    "end"
   ]
  },
  {
   "cell_type": "code",
   "execution_count": 10,
   "metadata": {},
   "outputs": [
    {
     "data": {
      "text/plain": [
       "qUpdate! (generic function with 1 method)"
      ]
     },
     "execution_count": 10,
     "metadata": {},
     "output_type": "execute_result"
    }
   ],
   "source": [
    "function qUpdate!(qValues, payoffs, gameParams, agentParams, correlations, actions)\n",
    "    actionProbs = getActionProbs(qValues, agentParams)\n",
    "    bChoice = chooseActions(actionProbs, gameParams)\n",
    "    rewards = findPayoffs(bChoice, gameParams, correlations, actions, payoffs)\n",
    "\n",
    "    update = [rewards[s] - diag(qValues[:, bChoice[s], s]) + gamma * findmax(qValues[:, :, s], dims=2)[1] for s=1:nSim]\n",
    "    \n",
    "    for s = 1:nSim\n",
    "        for p = 1:nPlayers\n",
    "            qValues[p, bChoice[s][p], s] += alpha * update[s][p]\n",
    "        end\n",
    "    end\n",
    "end"
   ]
  },
  {
   "cell_type": "code",
   "execution_count": 95,
   "metadata": {},
   "outputs": [
    {
     "data": {
      "text/plain": [
       "checkminMix (generic function with 1 method)"
      ]
     },
     "execution_count": 95,
     "metadata": {},
     "output_type": "execute_result"
    }
   ],
   "source": [
    "function checkminMix(actionTracker, nSim, tol)\n",
    "    T = hcat([reshape(actionTracker[i], nPlayers * nSim * nActions) for i=1:length(actionTracker)]...)\n",
    "    relDiff = (findmax(T, dims=2)[1] - findmin(T, dims=2)[1])./findmin(T, dims=2)[1]\n",
    "\n",
    "    part = [relDiff[i*(nActions*nPlayers)+1:(i+1)*(nActions*nPlayers)] for i=0:nSim-1]\n",
    "    bRemove = [length(findall(x->x<0.01, p))>=length(p) for p in part]\n",
    "    \n",
    "    return bRemove\n",
    "end"
   ]
  },
  {
   "cell_type": "code",
   "execution_count": 105,
   "metadata": {},
   "outputs": [
    {
     "data": {
      "text/plain": [
       "([(1, 1, 1, 1), (1, 1, 1, 2), (1, 1, 2, 1), (1, 1, 2, 2), (1, 2, 1, 1), (1, 2, 1, 2), (1, 2, 2, 1), (1, 2, 2, 2), (2, 1, 1, 1), (2, 1, 1, 2)  …  (1, 2, 2, 1), (1, 2, 2, 2), (2, 1, 1, 1), (2, 1, 1, 2), (2, 1, 2, 1), (2, 1, 2, 2), (2, 2, 1, 1), (2, 2, 1, 2), (2, 2, 2, 1), (2, 2, 2, 2)], [[1, 17, 33, 49], [2, 19, 37, 57], [3, 21, 41, 50], [4, 23, 45, 58], [5, 25, 34, 51], [6, 27, 38, 59], [7, 29, 42, 52], [8, 31, 46, 60], [9, 18, 35, 53], [10, 20, 39, 61], [11, 22, 43, 54], [12, 24, 47, 62], [13, 26, 36, 55], [14, 28, 40, 63], [15, 30, 44, 56], [16, 32, 48, 64]])"
      ]
     },
     "execution_count": 105,
     "metadata": {},
     "output_type": "execute_result"
    }
   ],
   "source": [
    "alpha = 0.03\n",
    "tau = 0.05\n",
    "gamma = 0.1\n",
    "\n",
    "initnSim = 10\n",
    "nSim = 2\n",
    "nPlayers = 4\n",
    "nActions = 2\n",
    "\n",
    "Gamma = -1\n",
    "\n",
    "gameParams = (nSim, nPlayers, nActions)\n",
    "agentParams = (alpha, tau, gamma)\n",
    "\n",
    "t0 = 5000\n",
    "actions, corr = generateCorrespondences(gameParams)"
   ]
  },
  {
   "cell_type": "code",
   "execution_count": null,
   "metadata": {},
   "outputs": [
    {
     "name": "stderr",
     "output_type": "stream",
     "text": [
      "┌ Warning: ProgressMeter by default refresh meters with additional information in IJulia via `IJulia.clear_output`, which clears all outputs in the cell. \n",
      "│  - To prevent this behaviour, do `ProgressMeter.ijulia_behavior(:append)`. \n",
      "│  - To disable this warning message, do `ProgressMeter.ijulia_behavior(:clear)`.\n",
      "└ @ ProgressMeter /Users/aamalhussain/.julia/packages/ProgressMeter/GhAId/src/ProgressMeter.jl:463\n",
      "\r",
      "\u001b[32mProgress:   0%|▏                                        |  ETA: 2:07:03\u001b[39m\r\n",
      "\u001b[34m  iter:  61\u001b[39m"
     ]
    }
   ],
   "source": [
    "qValues = rand(nPlayers, nActions, nSim)\n",
    "payoffs = generateGames(Gamma, nSim, corr, nActions, nPlayers)\n",
    "\n",
    "actionTracker = []\n",
    "\n",
    "nSim = initnSim\n",
    "converged = 0\n",
    "\n",
    "p = Progress(15000)\n",
    "\n",
    "for cIter = 1:15000\n",
    "\n",
    "    if cIter==t0\n",
    "        actionTracker = []\n",
    "    end    \n",
    "    \n",
    "    if cIter%t0==0 && cIter!=0 && cIter!=t0\n",
    "        bRemove = checkminMix(actionTracker, nSim, 0.01)\n",
    "        removeIdx = findall(bRemove)\n",
    "        if length(removeIdx) > 0\n",
    "            qValues = qValues[:, :, 1:end .∉ removeIdx]\n",
    "            payoffs = payoffs[:, 1:end .∉ removeIdx]\n",
    "            nSim -= 1\n",
    "            converged += 1\n",
    "        end\n",
    "        actionTracker = [] \n",
    "    end\n",
    "    \n",
    "    if nSim <= 0\n",
    "        break\n",
    "    end\n",
    "        gameParams = (nSim, nPlayers, nActions)\n",
    "        agentParams = (alpha, tau, gamma)\n",
    "\n",
    "        qUpdate!(qValues, payoffs, gameParams, agentParams, corr, actions)\n",
    "        append!(actionTracker, [getActionProbs(qValues, agentParams)])\n",
    "    \n",
    "    sleep(0.5)\n",
    "    ProgressMeter.next!(p; showvalues = [(:iter,cIter)])\n",
    "\n",
    "end"
   ]
  },
  {
   "cell_type": "code",
   "execution_count": 104,
   "metadata": {},
   "outputs": [
    {
     "data": {
      "text/plain": [
       "2"
      ]
     },
     "execution_count": 104,
     "metadata": {},
     "output_type": "execute_result"
    }
   ],
   "source": [
    "T = hcat([reshape(actionTracker[i], nPlayers * nSim * nActions) for i=1:length(actionTracker)]...)\n",
    "relDiff = (findmax(T, dims=2)[1] - findmin(T, dims=2)[1])./findmin(T, dims=2)[1]\n",
    "\n",
    "part = [relDiff[i*(nActions*nPlayers)+1:(i+1)*(nActions*nPlayers)] for i=0:nSim-1]\n",
    "bRemove = [length(findall(x->x<0.01, p))>=length(p) for p in part]\n",
    "\n",
    "bRemove[1] = 1\n",
    "removeIdx = findall(bRemove)\n"
   ]
  },
  {
   "cell_type": "code",
   "execution_count": 116,
   "metadata": {},
   "outputs": [
    {
     "data": {
      "text/plain": [
       "10"
      ]
     },
     "execution_count": 116,
     "metadata": {},
     "output_type": "execute_result"
    }
   ],
   "source": [
    "nSim"
   ]
  },
  {
   "cell_type": "code",
   "execution_count": 14,
   "metadata": {},
   "outputs": [
    {
     "name": "stdout",
     "output_type": "stream",
     "text": [
      "allCombos = [[1, 17, 33, 49], [2, 19, 37, 57], [3, 21, 41, 50], [4, 23, 45, 58], [5, 25, 34, 51], [6, 27, 38, 59], [7, 29, 42, 52], [8, 31, 46, 60], [9, 18, 35, 53], [10, 20, 39, 61], [11, 22, 43, 54], [12, 24, 47, 62], [13, 26, 36, 55], [14, 28, 40, 63], [15, 30, 44, 56], [16, 32, 48, 64]]\n"
     ]
    }
   ],
   "source": [
    "qValues = rand(nPlayers, nActions, nSim)\n",
    "payoffs = generateGames(Gamma, nSim, corr, nActions, nPlayers)\n",
    "\n",
    "probs = getActionProbs(qValues, (0.05, 1, 1))\n",
    "bChoice = [[rand(Bernoulli(probs[p, 1, s])) + 1 for p=1:nPlayers] for s=1:nSim]\n",
    "\n",
    "choiceIdx = [corr[findall(x -> x==tuple(bChoice[s]...), actions)[1]] for s=1:nSim]\n",
    "\n",
    "rewards = [payoffs[choiceIdx[s], s] for s=1:nSim]\n",
    "\n",
    "update = [rewards[s] - diag(qValues[:, bChoice[s], s]) + gamma * findmax(qValues[:, :, s], dims=2)[1] for s=1:nSim]\n",
    "# [i for i in bChoice[1]]\n",
    "for s = 1:nSim\n",
    "    for p = 1:nPlayers\n",
    "        qValues[p, bChoice[s][p], s] += alpha * update[s][p]\n",
    "    end\n",
    "end"
   ]
  },
  {
   "cell_type": "code",
   "execution_count": null,
   "metadata": {},
   "outputs": [],
   "source": [
    "LinRange(1e-2, 5e-2, 10)"
   ]
  },
  {
   "cell_type": "code",
   "execution_count": 22,
   "metadata": {},
   "outputs": [
    {
     "data": {
      "text/plain": [
       "2-element Array{Any,1}:\n",
       " 1\n",
       " 1"
      ]
     },
     "execution_count": 22,
     "metadata": {},
     "output_type": "execute_result"
    }
   ],
   "source": [
    "append!(a, 1)"
   ]
  },
  {
   "cell_type": "code",
   "execution_count": null,
   "metadata": {},
   "outputs": [],
   "source": []
  }
 ],
 "metadata": {
  "kernelspec": {
   "display_name": "Julia 1.5.3",
   "language": "julia",
   "name": "julia-1.5"
  },
  "language_info": {
   "file_extension": ".jl",
   "mimetype": "application/julia",
   "name": "julia",
   "version": "1.5.3"
  }
 },
 "nbformat": 4,
 "nbformat_minor": 4
}
