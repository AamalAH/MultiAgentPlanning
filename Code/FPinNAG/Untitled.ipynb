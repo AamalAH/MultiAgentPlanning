{
 "cells": [
  {
   "cell_type": "code",
   "execution_count": 2,
   "metadata": {},
   "outputs": [],
   "source": [
    "import numpy as np\n",
    "import matplotlib.pyplot as plt"
   ]
  },
  {
   "cell_type": "code",
   "execution_count": 4,
   "metadata": {},
   "outputs": [],
   "source": [
    "proj = np.array(\n",
    "    [[-1 * np.cos(30 / 360 * 2 * np.pi), np.cos(30 / 360 * 2 * np.pi), 0],\n",
    "     [-1 * np.sin(30 / 360 * 2 * np.pi), -1 * np.sin(30 / 360 * 2 * np.pi), 1]\n",
    "    ])\n",
    "\n",
    "ts = np.linspace(0, 1, 10000)\n",
    "d1 = proj@np.array([ts, 1 - ts, 0 * ts])\n",
    "d2 = proj@np.array([0*ts, ts, 1-ts])\n",
    "d3 = proj@np.array([ts, 0*ts, 1-ts])"
   ]
  },
  {
   "cell_type": "code",
   "execution_count": 7,
   "metadata": {},
   "outputs": [
    {
     "data": {
      "text/plain": [
       "[<matplotlib.lines.Line2D at 0x7fda70fe78b0>]"
      ]
     },
     "execution_count": 7,
     "metadata": {},
     "output_type": "execute_result"
    },
    {
     "data": {
      "image/png": "[encoded data removed]",
      "text/plain": [
       "<Figure size 432x288 with 1 Axes>"
      ]
     },
     "metadata": {
      "needs_background": "light"
     },
     "output_type": "display_data"
    }
   ],
   "source": [
    "plt.plot(d1[0], d1[1])\n",
    "plt.plot(d2[0], d2[1])\n",
    "plt.plot(d3[0], d3[1])"
   ]
  },
  {
   "cell_type": "code",
   "execution_count": 17,
   "metadata": {},
   "outputs": [],
   "source": [
    "A = np.array([[-1.353259, -1.268538, 2.572738],\n",
    "        [0.162237, -1.800824, 1.584291], \n",
    "        [-0.499026, -1.544578, 1.992332]])\n",
    "\n",
    "B = np.array([[-1.839111, -2.876997, -3.366031],\n",
    "    [-4.801713, -3.854987, -3.758662], \n",
    "    [6.740060, 6.590451, 6.898102]])"
   ]
  },
  {
   "cell_type": "code",
   "execution_count": 24,
   "metadata": {},
   "outputs": [
    {
     "data": {
      "text/plain": [
       "-0.001051723489999823"
      ]
     },
     "execution_count": 24,
     "metadata": {},
     "output_type": "execute_result"
    }
   ],
   "source": [
    "b = np.random.rand(3)\n",
    "b /= sum(b)\n",
    "\n",
    "np.dot([0.288, 0.370, 0.342], A @ [0.335, 0.327, 0.338])\n",
    "np.dot([0.288, 0.370, 0.342], B @ [0.335, 0.327, 0.338])"
   ]
  },
  {
   "cell_type": "code",
   "execution_count": 25,
   "metadata": {},
   "outputs": [
    {
     "data": {
      "text/plain": [
       "array([0.00143175, 0.00097031, 0.0011575 ])"
      ]
     },
     "execution_count": 25,
     "metadata": {},
     "output_type": "execute_result"
    }
   ],
   "source": [
    "A @ [0.335, 0.327, 0.338]"
   ]
  },
  {
   "cell_type": "code",
   "execution_count": null,
   "metadata": {},
   "outputs": [],
   "source": []
  }
 ],
 "metadata": {
  "kernelspec": {
   "display_name": "Python 3",
   "language": "python",
   "name": "python3"
  },
  "language_info": {
   "codemirror_mode": {
    "name": "ipython",
    "version": 3
   },
   "file_extension": ".py",
   "mimetype": "text/x-python",
   "name": "python",
   "nbconvert_exporter": "python",
   "pygments_lexer": "ipython3",
   "version": "3.8.5"
  }
 },
 "nbformat": 4,
 "nbformat_minor": 4
}
