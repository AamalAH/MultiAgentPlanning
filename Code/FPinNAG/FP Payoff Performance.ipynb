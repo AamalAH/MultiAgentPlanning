{
 "cells": [
  {
   "cell_type": "code",
   "execution_count": 40,
   "metadata": {},
   "outputs": [],
   "source": [
    "using LinearAlgebra\n",
    "using Statistics"
   ]
  },
  {
   "cell_type": "code",
   "execution_count": 2,
   "metadata": {},
   "outputs": [
    {
     "data": {
      "text/plain": [
       "3×3 Array{Float64,2}:\n",
       " -2.0   0.0   0.0\n",
       "  0.0  -2.0   0.0\n",
       "  0.0   0.0  -2.0"
      ]
     },
     "execution_count": 2,
     "metadata": {},
     "output_type": "execute_result"
    }
   ],
   "source": [
    "Matrix(-2.0I, 3, 3)"
   ]
  },
  {
   "cell_type": "code",
   "execution_count": 3,
   "metadata": {},
   "outputs": [
    {
     "data": {
      "text/plain": [
       "generateGame (generic function with 1 method)"
      ]
     },
     "execution_count": 3,
     "metadata": {},
     "output_type": "execute_result"
    }
   ],
   "source": [
    "function generateGame(beta)\n",
    "    A = Matrix(1.0I, 3, 3)\n",
    "    A[1, 3] = beta\n",
    "    A[2, 1] = beta\n",
    "    A[3, 2] = beta\n",
    "    \n",
    "    B = Matrix(-beta*1I, 3, 3)\n",
    "    B[1, 2] = 1\n",
    "    B[2, 3] = 1\n",
    "    B[3, 1] = 1\n",
    "    \n",
    "    return (A, B)\n",
    "end"
   ]
  },
  {
   "cell_type": "code",
   "execution_count": 35,
   "metadata": {
    "scrolled": true
   },
   "outputs": [
    {
     "data": {
      "text/plain": [
       "FPUpdate (generic function with 1 method)"
      ]
     },
     "execution_count": 35,
     "metadata": {},
     "output_type": "execute_result"
    }
   ],
   "source": [
    "function FPUpdate(game, avgStrat)\n",
    "    APV = generateSimplex(1000, 3)\n",
    "    return APV[argmax(APV * (game * avgStrat)), :]\n",
    "end"
   ]
  },
  {
   "cell_type": "code",
   "execution_count": 4,
   "metadata": {},
   "outputs": [
    {
     "data": {
      "text/plain": [
       "generateSimplex (generic function with 1 method)"
      ]
     },
     "execution_count": 4,
     "metadata": {},
     "output_type": "execute_result"
    }
   ],
   "source": [
    "function generateSimplex(sampleLen, dim)\n",
    "    \n",
    "    sample = [0.0; sort(rand(dim - 1)); 1.0]\n",
    "    sample = [sample[i] - sample[i - 1] for i=2:length(sample)]\n",
    "    allSamples = transpose(sample)\n",
    "    \n",
    "    for s = 1:sampleLen - 1\n",
    "        sample = [0.0; sort(rand(dim - 1)); 1.0]\n",
    "        sample = [sample[i] - sample[i - 1] for i=2:length(sample)]\n",
    "        allSamples = [allSamples; transpose(sample)]\n",
    "    end\n",
    "    return allSamples\n",
    "end"
   ]
  },
  {
   "cell_type": "code",
   "execution_count": 22,
   "metadata": {},
   "outputs": [
    {
     "data": {
      "text/plain": [
       "initialise (generic function with 2 methods)"
      ]
     },
     "execution_count": 22,
     "metadata": {},
     "output_type": "execute_result"
    }
   ],
   "source": [
    "function initialise(dim)\n",
    "    sample = [0.0; sort(rand(dim - 1)); 1.0]\n",
    "    sample = [sample[i] - sample[i - 1] for i=2:length(sample)]\n",
    "    return transpose(sample)\n",
    "end"
   ]
  },
  {
   "cell_type": "code",
   "execution_count": null,
   "metadata": {},
   "outputs": [],
   "source": [
    "function simulation(beta, dim)\n",
    "    avgX, avgY = initialise(dim), initialise(dim)\n",
    "    \n",
    "end"
   ]
  },
  {
   "cell_type": "code",
   "execution_count": 28,
   "metadata": {},
   "outputs": [
    {
     "data": {
      "text/plain": [
       "([0.39256481630282614 0.07277353110676388 0.53466165259041], [0.3995265226784148 0.28111002517508377 0.3193634521465014])"
      ]
     },
     "execution_count": 28,
     "metadata": {},
     "output_type": "execute_result"
    }
   ],
   "source": [
    "avgX, avgY = initialise(3), initialise(3)"
   ]
  },
  {
   "cell_type": "code",
   "execution_count": 46,
   "metadata": {},
   "outputs": [
    {
     "data": {
      "text/plain": [
       "1×3 Array{Float64,2}:\n",
       " 0.434496  0.261823  0.30368"
      ]
     },
     "execution_count": 46,
     "metadata": {},
     "output_type": "execute_result"
    }
   ],
   "source": [
    "avgY = mean(avgY, dims=1)"
   ]
  },
  {
   "cell_type": "code",
   "execution_count": 47,
   "metadata": {},
   "outputs": [
    {
     "data": {
      "text/plain": [
       "1-element Array{Float64,1}:\n",
       " 0.9585437021578163"
      ]
     },
     "execution_count": 47,
     "metadata": {},
     "output_type": "execute_result"
    }
   ],
   "source": [
    "FPUpdate(A, transpose(avgY))"
   ]
  },
  {
   "cell_type": "code",
   "execution_count": 42,
   "metadata": {},
   "outputs": [
    {
     "data": {
      "text/plain": [
       "2×3 Array{Float64,2}:\n",
       " 0.399527  0.28111   0.319363\n",
       " 0.469466  0.242536  0.287997"
      ]
     },
     "execution_count": 42,
     "metadata": {},
     "output_type": "execute_result"
    }
   ],
   "source": [
    "avgY"
   ]
  },
  {
   "cell_type": "code",
   "execution_count": 45,
   "metadata": {},
   "outputs": [
    {
     "data": {
      "text/plain": [
       "0.4344965"
      ]
     },
     "execution_count": 45,
     "metadata": {},
     "output_type": "execute_result"
    }
   ],
   "source": [
    "0.5 * (0.399527 + 0.469466)"
   ]
  },
  {
   "cell_type": "code",
   "execution_count": null,
   "metadata": {},
   "outputs": [],
   "source": []
  }
 ],
 "metadata": {
  "kernelspec": {
   "display_name": "Julia 1.5.3",
   "language": "julia",
   "name": "julia-1.5"
  },
  "language_info": {
   "file_extension": ".jl",
   "mimetype": "application/julia",
   "name": "julia",
   "version": "1.5.3"
  }
 },
 "nbformat": 4,
 "nbformat_minor": 2
}
