{
 "metadata": {
  "language_info": {
   "codemirror_mode": {
    "name": "ipython",
    "version": 3
   },
   "file_extension": ".py",
   "mimetype": "text/x-python",
   "name": "python",
   "nbconvert_exporter": "python",
   "pygments_lexer": "ipython3",
   "version": "3.8.5-final"
  },
  "orig_nbformat": 2,
  "kernelspec": {
   "name": "python3",
   "display_name": "Python 3",
   "language": "python"
  }
 },
 "nbformat": 4,
 "nbformat_minor": 2,
 "cells": [
  {
   "cell_type": "code",
   "execution_count": 1,
   "metadata": {},
   "outputs": [],
   "source": [
    "from nonConvergentPayoffs import *"
   ]
  },
  {
   "cell_type": "code",
   "execution_count": 2,
   "metadata": {},
   "outputs": [],
   "source": [
    "    numTests = 20\n",
    "    dim = 3\n",
    "    nSim = 150\n",
    "    nInit = 25\n",
    "    nIter = 5e4\n",
    "    nIter = int(nIter)\n",
    "\n",
    "    gammas = np.linspace(-1, 1, num=numTests)\n",
    "\n",
    "    gamma = gammas[1]"
   ]
  },
  {
   "cell_type": "code",
   "execution_count": null,
   "metadata": {},
   "outputs": [],
   "source": [
    "A, B, allPX, allQY, allerX, allerY, notConverged = simulation(gamma, dim, nSim, nInit, nIter)\n",
    "if allPX.shape[1] > 0:\n",
    "    plotOnSimplex(gamma, allPX, allQY)"
   ]
  },
  {
   "cell_type": "code",
   "execution_count": null,
   "metadata": {},
   "outputs": [],
   "source": []
  }
 ]
}