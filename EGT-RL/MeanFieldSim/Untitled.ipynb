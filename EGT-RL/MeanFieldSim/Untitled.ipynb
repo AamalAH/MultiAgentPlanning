{
 "cells": [
  {
   "cell_type": "code",
   "execution_count": null,
   "metadata": {
    "scrolled": true
   },
   "outputs": [
    {
     "name": "stderr",
     "output_type": "stream",
     "text": [
      "  0%|          | 0/10 [00:00<?, ?it/s]../_NIPS2019_code/MAS12/MAgame1202.py:149: RuntimeWarning: divide by zero encountered in true_divide\n",
      "  normStep = np.linalg.norm((xbar - oldxBar)/oldxBar)\n"
     ]
    },
    {
     "name": "stdout",
     "output_type": "stream",
     "text": [
      "r: 0.0, gamma: -1.0, Simulation: 0, Converged: True\n",
      "r: 0.0, gamma: -1.0, Simulation: 1, Converged: True\n",
      "r: 0.0, gamma: -1.0, Simulation: 2, Converged: True\n",
      "r: 0.0, gamma: -1.0, Simulation: 3, Converged: True\n",
      "r: 0.0, gamma: -1.0, Simulation: 4, Converged: True\n",
      "r: 0.0, gamma: -0.7777777777777778, Simulation: 0, Converged: True\n",
      "r: 0.0, gamma: -0.7777777777777778, Simulation: 1, Converged: True\n",
      "r: 0.0, gamma: -0.7777777777777778, Simulation: 2, Converged: True\n",
      "r: 0.0, gamma: -0.7777777777777778, Simulation: 3, Converged: True\n",
      "r: 0.0, gamma: -0.7777777777777778, Simulation: 4, Converged: True\n",
      "r: 0.0, gamma: -0.5555555555555556, Simulation: 0, Converged: True\n",
      "r: 0.0, gamma: -0.5555555555555556, Simulation: 1, Converged: True\n",
      "r: 0.0, gamma: -0.5555555555555556, Simulation: 2, Converged: True\n",
      "r: 0.0, gamma: -0.5555555555555556, Simulation: 3, Converged: True\n",
      "r: 0.0, gamma: -0.5555555555555556, Simulation: 4, Converged: True\n",
      "r: 0.0, gamma: -0.33333333333333337, Simulation: 0, Converged: True\n",
      "r: 0.0, gamma: -0.33333333333333337, Simulation: 1, Converged: True\n",
      "r: 0.0, gamma: -0.33333333333333337, Simulation: 2, Converged: True\n",
      "r: 0.0, gamma: -0.33333333333333337, Simulation: 3, Converged: True\n",
      "r: 0.0, gamma: -0.33333333333333337, Simulation: 4, Converged: True\n",
      "r: 0.0, gamma: -0.11111111111111116, Simulation: 0, Converged: True\n",
      "r: 0.0, gamma: -0.11111111111111116, Simulation: 1, Converged: True\n",
      "r: 0.0, gamma: -0.11111111111111116, Simulation: 2, Converged: True\n",
      "r: 0.0, gamma: -0.11111111111111116, Simulation: 3, Converged: True\n",
      "r: 0.0, gamma: -0.11111111111111116, Simulation: 4, Converged: True\n",
      "r: 0.0, gamma: 0.11111111111111116, Simulation: 0, Converged: True\n",
      "r: 0.0, gamma: 0.11111111111111116, Simulation: 1, Converged: True\n",
      "r: 0.0, gamma: 0.11111111111111116, Simulation: 2, Converged: True\n",
      "r: 0.0, gamma: 0.11111111111111116, Simulation: 3, Converged: True\n",
      "r: 0.0, gamma: 0.11111111111111116, Simulation: 4, Converged: True\n",
      "r: 0.0, gamma: 0.33333333333333326, Simulation: 0, Converged: True\n",
      "r: 0.0, gamma: 0.33333333333333326, Simulation: 1, Converged: True\n",
      "r: 0.0, gamma: 0.33333333333333326, Simulation: 2, Converged: True\n",
      "r: 0.0, gamma: 0.33333333333333326, Simulation: 3, Converged: True\n",
      "r: 0.0, gamma: 0.33333333333333326, Simulation: 4, Converged: True\n",
      "r: 0.0, gamma: 0.5555555555555554, Simulation: 0, Converged: True\n",
      "r: 0.0, gamma: 0.5555555555555554, Simulation: 1, Converged: True\n",
      "r: 0.0, gamma: 0.5555555555555554, Simulation: 2, Converged: True\n",
      "r: 0.0, gamma: 0.5555555555555554, Simulation: 3, Converged: True\n",
      "r: 0.0, gamma: 0.5555555555555554, Simulation: 4, Converged: True\n",
      "r: 0.0, gamma: 0.7777777777777777, Simulation: 0, Converged: True\n",
      "r: 0.0, gamma: 0.7777777777777777, Simulation: 1, Converged: True\n",
      "r: 0.0, gamma: 0.7777777777777777, Simulation: 2, Converged: True\n",
      "r: 0.0, gamma: 0.7777777777777777, Simulation: 3, Converged: True\n",
      "r: 0.0, gamma: 0.7777777777777777, Simulation: 4, Converged: True\n",
      "r: 0.0, gamma: 1.0, Simulation: 0, Converged: True\n",
      "r: 0.0, gamma: 1.0, Simulation: 1, Converged: True\n",
      "r: 0.0, gamma: 1.0, Simulation: 2, Converged: True\n",
      "r: 0.0, gamma: 1.0, Simulation: 3, Converged: True\n"
     ]
    },
    {
     "name": "stderr",
     "output_type": "stream",
     "text": [
      "\r",
      " 10%|█         | 1/10 [03:29<31:21, 209.10s/it]"
     ]
    },
    {
     "name": "stdout",
     "output_type": "stream",
     "text": [
      "r: 0.0, gamma: 1.0, Simulation: 4, Converged: True\n",
      "r: 0.5555555555555556, gamma: -1.0, Simulation: 0, Converged: True\n",
      "r: 0.5555555555555556, gamma: -1.0, Simulation: 1, Converged: True\n",
      "r: 0.5555555555555556, gamma: -1.0, Simulation: 2, Converged: True\n",
      "r: 0.5555555555555556, gamma: -1.0, Simulation: 3, Converged: True\n",
      "r: 0.5555555555555556, gamma: -1.0, Simulation: 4, Converged: True\n",
      "r: 0.5555555555555556, gamma: -0.7777777777777778, Simulation: 0, Converged: True\n",
      "r: 0.5555555555555556, gamma: -0.7777777777777778, Simulation: 1, Converged: True\n",
      "r: 0.5555555555555556, gamma: -0.7777777777777778, Simulation: 2, Converged: True\n",
      "r: 0.5555555555555556, gamma: -0.7777777777777778, Simulation: 3, Converged: True\n",
      "r: 0.5555555555555556, gamma: -0.7777777777777778, Simulation: 4, Converged: True\n",
      "r: 0.5555555555555556, gamma: -0.5555555555555556, Simulation: 0, Converged: True\n",
      "r: 0.5555555555555556, gamma: -0.5555555555555556, Simulation: 1, Converged: True\n",
      "r: 0.5555555555555556, gamma: -0.5555555555555556, Simulation: 2, Converged: True\n",
      "r: 0.5555555555555556, gamma: -0.5555555555555556, Simulation: 3, Converged: True\n",
      "r: 0.5555555555555556, gamma: -0.5555555555555556, Simulation: 4, Converged: True\n",
      "r: 0.5555555555555556, gamma: -0.33333333333333337, Simulation: 0, Converged: True\n",
      "r: 0.5555555555555556, gamma: -0.33333333333333337, Simulation: 1, Converged: True\n",
      "r: 0.5555555555555556, gamma: -0.33333333333333337, Simulation: 2, Converged: True\n",
      "r: 0.5555555555555556, gamma: -0.33333333333333337, Simulation: 3, Converged: True\n",
      "r: 0.5555555555555556, gamma: -0.33333333333333337, Simulation: 4, Converged: True\n",
      "r: 0.5555555555555556, gamma: -0.11111111111111116, Simulation: 0, Converged: False\n",
      "r: 0.5555555555555556, gamma: -0.11111111111111116, Simulation: 1, Converged: True\n",
      "r: 0.5555555555555556, gamma: -0.11111111111111116, Simulation: 2, Converged: True\n",
      "r: 0.5555555555555556, gamma: -0.11111111111111116, Simulation: 3, Converged: False\n",
      "r: 0.5555555555555556, gamma: -0.11111111111111116, Simulation: 4, Converged: False\n",
      "r: 0.5555555555555556, gamma: 0.11111111111111116, Simulation: 0, Converged: True\n",
      "r: 0.5555555555555556, gamma: 0.11111111111111116, Simulation: 1, Converged: True\n",
      "r: 0.5555555555555556, gamma: 0.11111111111111116, Simulation: 2, Converged: True\n",
      "r: 0.5555555555555556, gamma: 0.11111111111111116, Simulation: 3, Converged: True\n",
      "r: 0.5555555555555556, gamma: 0.11111111111111116, Simulation: 4, Converged: True\n",
      "r: 0.5555555555555556, gamma: 0.33333333333333326, Simulation: 0, Converged: True\n",
      "r: 0.5555555555555556, gamma: 0.33333333333333326, Simulation: 1, Converged: True\n",
      "r: 0.5555555555555556, gamma: 0.33333333333333326, Simulation: 2, Converged: True\n",
      "r: 0.5555555555555556, gamma: 0.33333333333333326, Simulation: 3, Converged: True\n",
      "r: 0.5555555555555556, gamma: 0.33333333333333326, Simulation: 4, Converged: True\n",
      "r: 0.5555555555555556, gamma: 0.5555555555555554, Simulation: 0, Converged: True\n",
      "r: 0.5555555555555556, gamma: 0.5555555555555554, Simulation: 1, Converged: True\n",
      "r: 0.5555555555555556, gamma: 0.5555555555555554, Simulation: 2, Converged: True\n",
      "r: 0.5555555555555556, gamma: 0.5555555555555554, Simulation: 3, Converged: True\n",
      "r: 0.5555555555555556, gamma: 0.5555555555555554, Simulation: 4, Converged: True\n",
      "r: 0.5555555555555556, gamma: 0.7777777777777777, Simulation: 0, Converged: False\n",
      "r: 0.5555555555555556, gamma: 0.7777777777777777, Simulation: 1, Converged: False\n",
      "r: 0.5555555555555556, gamma: 0.7777777777777777, Simulation: 2, Converged: False\n",
      "r: 0.5555555555555556, gamma: 0.7777777777777777, Simulation: 3, Converged: False\n",
      "r: 0.5555555555555556, gamma: 0.7777777777777777, Simulation: 4, Converged: False\n",
      "r: 0.5555555555555556, gamma: 1.0, Simulation: 0, Converged: True\n",
      "r: 0.5555555555555556, gamma: 1.0, Simulation: 1, Converged: True\n",
      "r: 0.5555555555555556, gamma: 1.0, Simulation: 2, Converged: True\n",
      "r: 0.5555555555555556, gamma: 1.0, Simulation: 3, Converged: True\n"
     ]
    },
    {
     "name": "stderr",
     "output_type": "stream",
     "text": [
      "\r",
      " 20%|██        | 2/10 [31:32:56<75:54:13, 34156.72s/it]"
     ]
    },
    {
     "name": "stdout",
     "output_type": "stream",
     "text": [
      "r: 0.5555555555555556, gamma: 1.0, Simulation: 4, Converged: True\n",
      "r: 1.1111111111111112, gamma: -1.0, Simulation: 0, Converged: True\n",
      "r: 1.1111111111111112, gamma: -1.0, Simulation: 1, Converged: True\n",
      "r: 1.1111111111111112, gamma: -1.0, Simulation: 2, Converged: True\n",
      "r: 1.1111111111111112, gamma: -1.0, Simulation: 3, Converged: True\n",
      "r: 1.1111111111111112, gamma: -1.0, Simulation: 4, Converged: True\n",
      "r: 1.1111111111111112, gamma: -0.7777777777777778, Simulation: 0, Converged: True\n",
      "r: 1.1111111111111112, gamma: -0.7777777777777778, Simulation: 1, Converged: True\n",
      "r: 1.1111111111111112, gamma: -0.7777777777777778, Simulation: 2, Converged: True\n",
      "r: 1.1111111111111112, gamma: -0.7777777777777778, Simulation: 3, Converged: True\n",
      "r: 1.1111111111111112, gamma: -0.7777777777777778, Simulation: 4, Converged: True\n",
      "r: 1.1111111111111112, gamma: -0.5555555555555556, Simulation: 0, Converged: True\n",
      "r: 1.1111111111111112, gamma: -0.5555555555555556, Simulation: 1, Converged: True\n",
      "r: 1.1111111111111112, gamma: -0.5555555555555556, Simulation: 2, Converged: True\n",
      "r: 1.1111111111111112, gamma: -0.5555555555555556, Simulation: 3, Converged: True\n",
      "r: 1.1111111111111112, gamma: -0.5555555555555556, Simulation: 4, Converged: True\n",
      "r: 1.1111111111111112, gamma: -0.33333333333333337, Simulation: 0, Converged: True\n",
      "r: 1.1111111111111112, gamma: -0.33333333333333337, Simulation: 1, Converged: True\n",
      "r: 1.1111111111111112, gamma: -0.33333333333333337, Simulation: 2, Converged: True\n",
      "r: 1.1111111111111112, gamma: -0.33333333333333337, Simulation: 3, Converged: True\n",
      "r: 1.1111111111111112, gamma: -0.33333333333333337, Simulation: 4, Converged: True\n",
      "r: 1.1111111111111112, gamma: -0.11111111111111116, Simulation: 0, Converged: True\n",
      "r: 1.1111111111111112, gamma: -0.11111111111111116, Simulation: 1, Converged: True\n",
      "r: 1.1111111111111112, gamma: -0.11111111111111116, Simulation: 2, Converged: True\n",
      "r: 1.1111111111111112, gamma: -0.11111111111111116, Simulation: 3, Converged: True\n",
      "r: 1.1111111111111112, gamma: -0.11111111111111116, Simulation: 4, Converged: True\n",
      "r: 1.1111111111111112, gamma: 0.11111111111111116, Simulation: 0, Converged: True\n",
      "r: 1.1111111111111112, gamma: 0.11111111111111116, Simulation: 1, Converged: True\n",
      "r: 1.1111111111111112, gamma: 0.11111111111111116, Simulation: 2, Converged: True\n",
      "r: 1.1111111111111112, gamma: 0.11111111111111116, Simulation: 3, Converged: True\n",
      "r: 1.1111111111111112, gamma: 0.11111111111111116, Simulation: 4, Converged: True\n",
      "r: 1.1111111111111112, gamma: 0.33333333333333326, Simulation: 0, Converged: True\n",
      "r: 1.1111111111111112, gamma: 0.33333333333333326, Simulation: 1, Converged: True\n",
      "r: 1.1111111111111112, gamma: 0.33333333333333326, Simulation: 2, Converged: True\n",
      "r: 1.1111111111111112, gamma: 0.33333333333333326, Simulation: 3, Converged: True\n",
      "r: 1.1111111111111112, gamma: 0.33333333333333326, Simulation: 4, Converged: True\n",
      "r: 1.1111111111111112, gamma: 0.5555555555555554, Simulation: 0, Converged: True\n",
      "r: 1.1111111111111112, gamma: 0.5555555555555554, Simulation: 1, Converged: True\n",
      "r: 1.1111111111111112, gamma: 0.5555555555555554, Simulation: 2, Converged: True\n",
      "r: 1.1111111111111112, gamma: 0.5555555555555554, Simulation: 3, Converged: True\n",
      "r: 1.1111111111111112, gamma: 0.5555555555555554, Simulation: 4, Converged: True\n",
      "r: 1.1111111111111112, gamma: 0.7777777777777777, Simulation: 0, Converged: True\n"
     ]
    }
   ],
   "source": [
    "import ParameterSweep"
   ]
  },
  {
   "cell_type": "code",
   "execution_count": null,
   "metadata": {},
   "outputs": [],
   "source": [
    "    "
   ]
  }
 ],
 "metadata": {
  "kernelspec": {
   "display_name": "Python 3",
   "language": "python",
   "name": "python3"
  },
  "language_info": {
   "codemirror_mode": {
    "name": "ipython",
    "version": 3
   },
   "file_extension": ".py",
   "mimetype": "text/x-python",
   "name": "python",
   "nbconvert_exporter": "python",
   "pygments_lexer": "ipython3",
   "version": "3.7.4"
  }
 },
 "nbformat": 4,
 "nbformat_minor": 2
}
